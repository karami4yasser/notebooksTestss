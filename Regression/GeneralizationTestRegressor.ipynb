{
  "cells": [
    {
      "cell_type": "code",
      "execution_count": null,
      "metadata": {
        "id": "yeHNpZgwCuzO"
      },
      "outputs": [],
      "source": [
        "import pandas as pd\n",
        "import matplotlib.pyplot as plt\n",
        "from pylab import rcParams\n",
        "import numpy as np\n",
        "import seaborn as sns\n",
        "import os\n",
        "\n",
        "from sklearn.ensemble import RandomForestRegressor\n",
        "from sklearn.model_selection import cross_val_score, train_test_split, GridSearchCV\n",
        "from sklearn.feature_selection import RFECV, SelectFromModel, SelectKBest\n",
        "from sklearn.preprocessing import StandardScaler\n",
        "from sklearn import metrics\n",
        "%matplotlib inline"
      ]
    },
    {
      "attachments": {},
      "cell_type": "markdown",
      "metadata": {
        "id": "14eXmmWC6c5g"
      },
      "source": [
        "# . Loading the dataset "
      ]
    },
    {
      "cell_type": "markdown",
      "metadata": {
        "id": "UmZ3QvfenIck"
      },
      "source": [
        "This dataset contains Apple's (AAPL) stock data for the last 10 years (from 2010).Insights from this data can be used to build useful price forecasting algorithms to aid investment. \n",
        "\n",
        "\n",
        "Data is collected and aggregated from 25 exchanges.\n",
        "\n",
        "Data is updated weekly\n",
        "\n",
        "This dataset contains 1-minute, 5-minute, 30-minute and 1-hour bars (open/high/low/close/volume) for AAPL (Apple).\n",
        "\n",
        "Out-of-hours trades are included. Prices are adjusted for splits and dividends.\n",
        "To get access directly to this dataset you can see the link below \n",
        "\n",
        "https://finance.yahoo.com/quote/AAPL/history/ \n",
        "\n",
        "or \n",
        "\n",
        "\n",
        "https://www.kaggle.com/datasets/tarunpaparaju/apple-aapl-historical-stock-data"
      ]
    },
    {
      "cell_type": "code",
      "execution_count": null,
      "metadata": {
        "colab": {
          "base_uri": "https://localhost:8080/",
          "height": 238
        },
        "id": "5CaWusr4mjBN",
        "outputId": "31fe0a72-f96a-4a04-f438-6dee1e18ac9e"
      },
      "outputs": [],
      "source": [
        "#Reading the dataset using \"read_csv\" a prebuild function in the \"pandas\" package, the \"index_col\" contains the column to use as the row labels of the DataFrame\n",
        "Stock = pd.read_csv('AppleDataset.csv',  index_col=0)\n",
        "df_Stock = Stock\n",
        "#\"rename\" prebuild function that enables us to change the name of a column in a Dataframe\n",
        "df_Stock = df_Stock.rename(columns={'Close(t)':'Close'})\n",
        "#Display using Head function that returns the dataframe or series with the first few rows (by default 5)\n",
        "df_Stock.head()"
      ]
    },
    {
      "attachments": {},
      "cell_type": "markdown",
      "metadata": {
        "id": "vieNgyfxs4lw"
      },
      "source": [
        "#  Exploratoration of the dataset \n",
        "\n",
        "1. understanding features and determining the target: \n",
        "\n",
        "In order to better illustrate this regression approach it is necessary to have suitable predictors for our target. The dataset recorded more direct elements to the stock.  Five\n",
        "values illustrating movements in the price over one unit of time (usually one day, but it can also be one week or one month) are key trading indicators. They are as follows:\n",
        "\n",
        "• Open: The starting price for a given trading day\n",
        "\n",
        "\n",
        "• Close: The final price on that day\n",
        "\n",
        "\n",
        "• High: The highest prices at which the stock traded on that day\n",
        "\n",
        "\n",
        "• Low: The lowest prices at which the stock traded on that day\n",
        "\n",
        "\n",
        "• Volume: The total number of shares traded before the market closed on\n",
        "that day\n",
        "\n",
        "We will be focusing on historical prices (the 5 recorded values) and performance to predict future prices."
      ]
    },
    {
      "attachments": {},
      "cell_type": "markdown",
      "metadata": {
        "id": "KXhgzGdQw8Og"
      },
      "source": [
        "2. Getting the data's types and convert into float"
      ]
    },
    {
      "cell_type": "code",
      "execution_count": null,
      "metadata": {
        "colab": {
          "base_uri": "https://localhost:8080/",
          "height": 396
        },
        "id": "4f6dCiC2sE0y",
        "outputId": "9a2a6d0b-0c2f-4c58-c71d-db04b2a7c60b"
      },
      "outputs": [],
      "source": [
        "#Converting columns that contain data type (Dtype) =object to float using the \"astype\" prebuild function \n",
        "#In the same time replacing \"$\" symbol with an empty space \n",
        "df_Stock[\"Close\"] = df_Stock[' Close/Last'].str.replace('$','').astype(float)\n",
        "df_Stock['Open'] = df_Stock[' Open'].str.replace('$','').astype(float)\n",
        "df_Stock['High'] = df_Stock[' High'].str.replace('$','').astype(float)\n",
        "df_Stock['Low'] = df_Stock[' Low'].str.replace('$','').astype(float)\n",
        "\n",
        "df_Stock['Volume'] = df_Stock[' Volume']\n",
        "#With the new named columns containing the converted datatypes, we are droping pevious columns\n",
        "drop = [' Close/Last',' Open',' High',' Low',' Volume']\n",
        "df_Stock = df_Stock.drop(drop,axis=1)\n",
        "#Diplaying the new dataset \n",
        "df_Stock.head()"
      ]
    },
    {
      "cell_type": "code",
      "execution_count": null,
      "metadata": {
        "id": "JVVV3jZwocsU"
      },
      "outputs": [],
      "source": [
        "def create_train_test_set(df_Stock):\n",
        "    #Taking all features as predictors of course droping the close  column...\n",
        "    \"\"\"\n",
        "    the close  column represents the predicted value of close prices in the \n",
        "    previous 10 years. so not to make our model overfit and the learning to be biased by these values \n",
        "    we drop this column.\n",
        "\n",
        "    \"\"\"\n",
        "    features = df_Stock.drop(columns=['Close'], axis=1)\n",
        "\n",
        "    #now the target is to predit the values of the close column which represents the predicted \n",
        "    #prices by which shares of apple corporation will be sold (or bought).\n",
        "    target = df_Stock['Close']\n",
        "    \n",
        "\n",
        "    data_len = df_Stock.shape[0]\n",
        "    print('Historical Stock Data length is - ', str(data_len))\n",
        "\n",
        "    #create a chronological split for train and testing\n",
        "    train_split = int(data_len * 0.7)\n",
        "    print('Training Set length - ', str(train_split))\n",
        "\n",
        "    val_split = train_split + int(data_len * 0.2)\n",
        "    print('Validation Set length - ', str(int(data_len * 0.2)))\n",
        "\n",
        "    print('Test Set length - ', str(int(data_len * 0.1)))\n",
        "\n",
        "    # Splitting features and target into train, validation and test samples \n",
        "    X_train, X_val, X_test = features[:train_split], features[train_split:val_split], features[val_split:]\n",
        "    Y_train, Y_val, Y_test = target[:train_split], target[train_split:val_split], target[val_split:]\n",
        "\n",
        "    #print shape of samples\n",
        "    print(X_train.shape, X_val.shape, X_test.shape)\n",
        "    print(Y_train.shape, Y_val.shape, Y_test.shape)\n",
        "    \n",
        "    return X_train, X_val, X_test, Y_train, Y_val, Y_test"
      ]
    },
    {
      "cell_type": "code",
      "execution_count": null,
      "metadata": {
        "colab": {
          "base_uri": "https://localhost:8080/"
        },
        "id": "9YnJ8iJCooX-",
        "outputId": "0979474f-218a-4b5d-eccf-c81456aca749"
      },
      "outputs": [],
      "source": [
        "X_train, X_val, X_test, Y_train, Y_val, Y_test = create_train_test_set(df_Stock)"
      ]
    },
    {
      "cell_type": "code",
      "execution_count": null,
      "metadata": {
        "colab": {
          "base_uri": "https://localhost:8080/"
        },
        "id": "Ug5krl00oqaF",
        "outputId": "cdbed95e-6918-4555-b070-4807f81e73eb"
      },
      "outputs": [],
      "source": [
        "from sklearn.linear_model import LinearRegression #uploading the linear regression model \n",
        "\n",
        "lr = LinearRegression()\n",
        "#fit() is implemented by every estimator and it accepts an input for the sample data ( X_train ) and for supervised models it also accepts an argument for labels (Y_train)\n",
        "lr.fit(X_train, Y_train)"
      ]
    },
    {
      "cell_type": "code",
      "execution_count": null,
      "metadata": {
        "colab": {
          "base_uri": "https://localhost:8080/"
        },
        "id": "xT4VcEeyo0Js",
        "outputId": "39aaf6b7-6830-49aa-f3aa-3fc640758c33"
      },
      "outputs": [],
      "source": [
        "#Displaying the models coefficients and intercept \n",
        "print('LR Coefficients: \\n', lr.coef_)\n",
        "print('LR Intercept: \\n', lr.intercept_)"
      ]
    },
    {
      "cell_type": "code",
      "execution_count": null,
      "metadata": {
        "colab": {
          "base_uri": "https://localhost:8080/"
        },
        "id": "2uVatBQwo4bc",
        "outputId": "ece0cc19-4266-43ca-871f-a7246dfd3e26"
      },
      "outputs": [],
      "source": [
        "print(\"Performance (R^2): \", lr.score(X_train, Y_train))"
      ]
    },
    {
      "cell_type": "code",
      "execution_count": null,
      "metadata": {
        "id": "loJ0XiBlpAPE"
      },
      "outputs": [],
      "source": [
        "#Calculating the regression error in order to be used while evaluating the model's performance\n",
        "def get_mape(y_true, y_pred): \n",
        "    \n",
        "    y_true, y_pred = np.array(y_true), np.array(y_pred)\n",
        "    return np.mean(np.abs((y_true - y_pred) / y_true)) * 100"
      ]
    },
    {
      "cell_type": "markdown",
      "metadata": {
        "id": "9SaDOHxT9_2P"
      },
      "source": [
        "5.1. Training the model "
      ]
    },
    {
      "cell_type": "code",
      "execution_count": null,
      "metadata": {
        "id": "INMrGqSUpBtd"
      },
      "outputs": [],
      "source": [
        "#In this case we are using linear regression \n",
        "\n",
        "Y_train_pred = lr.predict(X_train)\n",
        "Y_val_pred = lr.predict(X_val)\n",
        "Y_test_pred = lr.predict(X_test)"
      ]
    },
    {
      "cell_type": "markdown",
      "metadata": {
        "id": "b1BAHWNa_H_S"
      },
      "source": [
        "Test Performance On Google Stock\n",
        "    https://www.kaggle.com/datasets/varpit94/google-stock-data"
      ]
    },
    {
      "cell_type": "code",
      "execution_count": null,
      "metadata": {
        "colab": {
          "base_uri": "https://localhost:8080/",
          "height": 238
        },
        "id": "nszbAfbQ_HVO",
        "outputId": "5ff95b81-c9b9-42f8-f0b3-d56983031a7d"
      },
      "outputs": [],
      "source": [
        "#Reading the dataset using \"read_csv\" a prebuild function in the \"pandas\" package, the \"index_col\" contains the column to use as the row labels of the DataFrame\n",
        "GoogleStock = pd.read_csv('GOOGL.csv',  index_col=0)\n",
        "df_GoogleStock = GoogleStock\n",
        "#\"rename\" prebuild function that enables us to change the name of a column in a Dataframe\n",
        "df_GoogleStock = df_GoogleStock.rename(columns={'Close(t)':'Close'})\n",
        "#Display using Head function that returns the dataframe or series with the first few rows (by default 5)\n",
        "df_GoogleStock.head()"
      ]
    },
    {
      "cell_type": "code",
      "execution_count": null,
      "metadata": {
        "id": "KhZmbQ4j_f5I"
      },
      "outputs": [],
      "source": [
        "X_Google=df_GoogleStock[[\"Open\",\"Low\",\"High\",\"Volume\"]]\n",
        "Y_Google=df_GoogleStock['Close']"
      ]
    },
    {
      "cell_type": "code",
      "execution_count": null,
      "metadata": {
        "colab": {
          "base_uri": "https://localhost:8080/"
        },
        "id": "xD37YzBCAOWy",
        "outputId": "c732d8c8-4940-4083-afa1-0fd4d30f8379"
      },
      "outputs": [],
      "source": [
        "Y_Google_pred = lr.predict(X_Google)\n"
      ]
    },
    {
      "attachments": {},
      "cell_type": "markdown",
      "metadata": {},
      "source": [
        "# The MSE "
      ]
    },
    {
      "cell_type": "code",
      "execution_count": null,
      "metadata": {
        "colab": {
          "base_uri": "https://localhost:8080/"
        },
        "id": "L8LoPyWlBo4T",
        "outputId": "047e539e-12fa-479b-d30e-d9c8bfc17740"
      },
      "outputs": [],
      "source": [
        "# Calculate the accuracy of the model\n",
        "r2 = metrics.r2_score(Y_Google, Y_Google_pred)\n",
        "print('R-squared score:', r2)\n",
        "print('Validation Mean Squared Error for The Original Dataset :', round(metrics.mean_squared_error(Y_val,Y_val_pred), 2)) \n",
        "print('Validation Mean Squared Error For Google Dataset :',round(metrics.mean_squared_error(Y_Google,Y_Google_pred), 2)) \n"
      ]
    },
    {
      "cell_type": "code",
      "execution_count": null,
      "metadata": {
        "colab": {
          "base_uri": "https://localhost:8080/",
          "height": 424
        },
        "id": "T79ykG1UAqXZ",
        "outputId": "844e5fc2-114b-44fa-f134-4d617dc83ee6"
      },
      "outputs": [],
      "source": [
        "#Displaying the values of actual price at a closing trading day and the predicted value of the price \n",
        "df_pred = pd.DataFrame(Y_Google.values, columns=['close Actual'], index=Y_Google.index)\n",
        "df_pred['Close Predicted'] = Y_Google_pred\n",
        "df_pred = df_pred.reset_index()\n",
        "df_pred\n"
      ]
    }
  ],
  "metadata": {
    "colab": {
      "provenance": []
    },
    "kernelspec": {
      "display_name": "Python 3",
      "language": "python",
      "name": "python3"
    },
    "language_info": {
      "name": "python",
      "version": "3.9.8 (tags/v3.9.8:bb3fdcf, Nov  5 2021, 20:48:33) [MSC v.1929 64 bit (AMD64)]"
    },
    "vscode": {
      "interpreter": {
        "hash": "6615b6879737564f1f02f43333aea4fd407b62a7dadee27399a07c947536a477"
      }
    }
  },
  "nbformat": 4,
  "nbformat_minor": 0
}
