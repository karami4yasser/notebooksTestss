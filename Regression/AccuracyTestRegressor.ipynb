{
  "cells": [
    {
      "cell_type": "code",
      "execution_count": null,
      "metadata": {
        "id": "yeHNpZgwCuzO"
      },
      "outputs": [],
      "source": [
        "import pandas as pd\n",
        "import matplotlib.pyplot as plt\n",
        "from pylab import rcParams\n",
        "import numpy as np\n",
        "import seaborn as sns\n",
        "import os\n",
        "\n",
        "from sklearn.ensemble import RandomForestRegressor\n",
        "from sklearn.model_selection import cross_val_score, train_test_split, GridSearchCV\n",
        "from sklearn.feature_selection import RFECV, SelectFromModel, SelectKBest\n",
        "from sklearn.preprocessing import StandardScaler\n",
        "from sklearn import metrics\n",
        "%matplotlib inline"
      ]
    },
    {
      "attachments": {},
      "cell_type": "markdown",
      "metadata": {},
      "source": [
        "# Read The Dataset"
      ]
    },
    {
      "cell_type": "code",
      "execution_count": null,
      "metadata": {
        "id": "5CaWusr4mjBN"
      },
      "outputs": [],
      "source": [
        "#Reading the dataset using \"read_csv\" a prebuild function in the \"pandas\" package, the \"index_col\" contains the column to use as the row labels of the DataFrame\n",
        "Stock = pd.read_csv('AppleDataset.csv',  index_col=0)\n",
        "df_Stock = Stock\n",
        "#\"rename\" prebuild function that enables us to change the name of a column in a Dataframe\n",
        "df_Stock = df_Stock.rename(columns={'Close(t)':'Close'})\n",
        "#Display using Head function that returns the dataframe or series with the first few rows (by default 5)\n",
        "df_Stock.head()"
      ]
    },
    {
      "cell_type": "code",
      "execution_count": null,
      "metadata": {
        "id": "JVVV3jZwocsU"
      },
      "outputs": [],
      "source": [
        "def create_train_test_set(df_Stock):\n",
        "    #Taking all features as predictors of course droping the close  column...\n",
        "    \"\"\"\n",
        "    the close  column represents the predicted value of close prices in the \n",
        "    previous 10 years. so not to make our model overfit and the learning to be biased by these values \n",
        "    we drop this column.\n",
        "\n",
        "    \"\"\"\n",
        "    features = df_Stock.drop(columns=['Close'], axis=1)\n",
        "\n",
        "    #now the target is to predit the values of the close column which represents the predicted \n",
        "    #prices by which shares of apple corporation will be sold (or bought).\n",
        "    target = df_Stock['Close']\n",
        "    \n",
        "\n",
        "    data_len = df_Stock.shape[0]\n",
        "    print('Historical Stock Data length is - ', str(data_len))\n",
        "\n",
        "    #create a chronological split for train and testing\n",
        "    train_split = int(data_len * 0.7)\n",
        "    print('Training Set length - ', str(train_split))\n",
        "\n",
        "    val_split = train_split + int(data_len * 0.2)\n",
        "    print('Validation Set length - ', str(int(data_len * 0.2)))\n",
        "\n",
        "    print('Test Set length - ', str(int(data_len * 0.1)))\n",
        "\n",
        "    # Splitting features and target into train, validation and test samples \n",
        "    X_train, X_val, X_test = features[:train_split], features[train_split:val_split], features[val_split:]\n",
        "    Y_train, Y_val, Y_test = target[:train_split], target[train_split:val_split], target[val_split:]\n",
        "\n",
        "    #print shape of samples\n",
        "    print(X_train.shape, X_val.shape, X_test.shape)\n",
        "    print(Y_train.shape, Y_val.shape, Y_test.shape)\n",
        "    \n",
        "    return X_train, X_val, X_test, Y_train, Y_val, Y_test"
      ]
    },
    {
      "cell_type": "code",
      "execution_count": null,
      "metadata": {
        "colab": {
          "base_uri": "https://localhost:8080/"
        },
        "id": "9YnJ8iJCooX-",
        "outputId": "c0ad552e-5b2d-4b7a-8d08-56962e2ac1ee"
      },
      "outputs": [],
      "source": [
        "X_train, X_val, X_test, Y_train, Y_val, Y_test = create_train_test_set(df_Stock)"
      ]
    },
    {
      "cell_type": "code",
      "execution_count": null,
      "metadata": {
        "colab": {
          "base_uri": "https://localhost:8080/"
        },
        "id": "Ug5krl00oqaF",
        "outputId": "c37b8d7b-7307-4c80-a652-4bd7e5f705eb"
      },
      "outputs": [],
      "source": [
        "from sklearn.linear_model import LinearRegression #uploading the linear regression model \n",
        "\n",
        "lr = LinearRegression()\n",
        "#fit() is implemented by every estimator and it accepts an input for the sample data ( X_train ) and for supervised models it also accepts an argument for labels (Y_train)\n",
        "lr.fit(X_train, Y_train)"
      ]
    },
    {
      "cell_type": "code",
      "execution_count": null,
      "metadata": {
        "colab": {
          "base_uri": "https://localhost:8080/"
        },
        "id": "2uVatBQwo4bc",
        "outputId": "e80bcb9a-d067-4025-9fcf-513ee9b49e22"
      },
      "outputs": [],
      "source": [
        "print(\"Performance (R^2): \", lr.score(X_train, Y_train))"
      ]
    },
    {
      "cell_type": "code",
      "execution_count": null,
      "metadata": {},
      "outputs": [],
      "source": [
        "#In this case we are using linear regression \n",
        "\n",
        "Y_val_pred = lr.predict(X_val)\n"
      ]
    },
    {
      "cell_type": "code",
      "execution_count": null,
      "metadata": {},
      "outputs": [],
      "source": [
        "print('Validation Mean Squared Error:', round(metrics.mean_squared_error(Y_val,Y_val_pred), 2)) \n"
      ]
    },
    {
      "cell_type": "code",
      "execution_count": null,
      "metadata": {
        "id": "loJ0XiBlpAPE"
      },
      "outputs": [],
      "source": [
        "#Calculating the regression error in order to be used while evaluating the model's performance\n",
        "def get_mape(y_true, y_pred): \n",
        "    \n",
        "    y_true, y_pred = np.array(y_true), np.array(y_pred)\n",
        "    return np.mean(np.abs((y_true - y_pred) / y_true)) * 100"
      ]
    },
    {
      "cell_type": "code",
      "execution_count": null,
      "metadata": {
        "colab": {
          "base_uri": "https://localhost:8080/",
          "height": 424
        },
        "id": "qVJmqXKIpy-c",
        "outputId": "ff61c379-5455-44e4-d9aa-17b39d550359"
      },
      "outputs": [],
      "source": [
        "#Displaying the values of actual price at a closing trading day and the predicted value of the price \n",
        "df_pred = pd.DataFrame(Y_val.values, columns=['close Actual'], index=Y_val.index)\n",
        "df_pred['Close Predicted'] = Y_val_pred\n",
        "df_pred = df_pred.reset_index()\n",
        "df_pred\n"
      ]
    }
  ],
  "metadata": {
    "colab": {
      "provenance": []
    },
    "kernelspec": {
      "display_name": "Python 3",
      "language": "python",
      "name": "python3"
    },
    "language_info": {
      "name": "python",
      "version": "3.9.8 (tags/v3.9.8:bb3fdcf, Nov  5 2021, 20:48:33) [MSC v.1929 64 bit (AMD64)]"
    },
    "vscode": {
      "interpreter": {
        "hash": "6615b6879737564f1f02f43333aea4fd407b62a7dadee27399a07c947536a477"
      }
    }
  },
  "nbformat": 4,
  "nbformat_minor": 0
}
