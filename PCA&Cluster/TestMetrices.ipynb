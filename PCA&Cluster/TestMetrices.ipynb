{
  "nbformat": 4,
  "nbformat_minor": 0,
  "metadata": {
    "colab": {
      "provenance": []
    },
    "kernelspec": {
      "name": "python3",
      "display_name": "Python 3"
    },
    "language_info": {
      "name": "python"
    },
    "accelerator": "GPU",
    "gpuClass": "standard"
  },
  "cells": [
    {
      "cell_type": "code",
      "execution_count": 1,
      "metadata": {
        "id": "JzjMGV4IrW1X"
      },
      "outputs": [],
      "source": [
        "import numpy as np \n",
        "import pandas as pd \n",
        "from sklearn.datasets import load_digits\n",
        "from sklearn.cluster import KMeans\n",
        "from sklearn.decomposition import PCA\n",
        "import matplotlib.pyplot as plt\n",
        "from sklearn.preprocessing import scale\n",
        "from sklearn.model_selection import train_test_split\n",
        "from sklearn import metrics\n",
        "import seaborn as sns"
      ]
    },
    {
      "cell_type": "code",
      "source": [
        "#load is used to load datasets of the sklearn.datasets \n",
        "digits = load_digits()"
      ],
      "metadata": {
        "id": "geb22K48sVzF"
      },
      "execution_count": 2,
      "outputs": []
    },
    {
      "cell_type": "code",
      "source": [
        "#\"scale\" function is an inbuilt function in the Python sklearn.preprocessing library which is used to change the image size by scaling each pixel value by given columns and rows.\n",
        "data = scale(digits.data)"
      ],
      "metadata": {
        "id": "-_mAWIJC6j-0"
      },
      "execution_count": 3,
      "outputs": []
    },
    {
      "cell_type": "code",
      "source": [
        "\"\"\"\n",
        "This functio is defined to visualize some of the 10 clusters of the dataset\n",
        "\n",
        "\"\"\"\n",
        "def print_digits(images,y,max_n=10):\n",
        "    # set up the figure size in inches\n",
        "    fig = plt.figure(figsize=(12, 12))\n",
        "    fig.subplots_adjust(left=0, right=1, bottom=0, top=1, hspace=0.05, wspace=0.05)\n",
        "    i = 0\n",
        "    while i < max_n and i < images.shape[0]:\n",
        "        # plot the images in a matrix of 20x20\n",
        "        p = fig.add_subplot(20, 20, i + 1, xticks=[], yticks=[])\n",
        "        p.imshow(images[i], cmap=plt.cm.bone)\n",
        "        # label the image with the target value\n",
        "        p.text(0, 14, str(y[i]))\n",
        "        i = i + 1\n",
        "    \n",
        "print_digits(digits.images, digits.target, max_n=10)"
      ],
      "metadata": {
        "colab": {
          "base_uri": "https://localhost:8080/",
          "height": 108
        },
        "id": "tLnC_7HWsunU",
        "outputId": "41a69582-1d54-4c14-860f-2a6d20de3f36"
      },
      "execution_count": 4,
      "outputs": [
        {
          "output_type": "display_data",
          "data": {
            "text/plain": [
              "<Figure size 864x864 with 10 Axes>"
            ],
            "image/png": "[encoded data removed]"
          },
          "metadata": {}
        }
      ]
    },
    {
      "cell_type": "code",
      "source": [
        "#returns the shape of teh first image in the dataset \n",
        "number_of_instances=digits.images.shape[0]\n",
        "#Splitting the training and testing dataset (defining the target variable)\n",
        "X_train, X_test, y_train, y_test, images_train, images_test = train_test_split(\n",
        "        data, digits.target, digits.images.reshape(number_of_instances,64),test_size=0.25, random_state=42)\n",
        "#Returns the number of samples and features in the training set \n",
        "n_samples, n_features = X_train.shape\n",
        "#returns the length of the labels (y_train) of only unique values\n",
        "n_digits = len(np.unique(y_train))\n",
        "labels = y_train\n",
        "\n",
        "# Reshape images back\n",
        "images_train=images_train.reshape(images_train.shape[0],8,8)\n",
        "images_test=images_test.reshape(images_test.shape[0],8,8)\n",
        "\n",
        "#visualization of the different digits \n",
        "print_digits(images_train, y_train, max_n=20)\n",
        "print_digits(images_test, y_test, max_n=20)\n",
        "\n",
        "print(\"n_digits: %d, \\t n_samples %d, \\t n_features %d\"\n",
        "      % (n_digits, n_samples, n_features))"
      ],
      "metadata": {
        "colab": {
          "base_uri": "https://localhost:8080/",
          "height": 216
        },
        "id": "PBQdgJ9ev0bk",
        "outputId": "45aff791-34bb-4cff-d799-3e4ab97ff356"
      },
      "execution_count": 5,
      "outputs": [
        {
          "output_type": "stream",
          "name": "stdout",
          "text": [
            "n_digits: 10, \t n_samples 1347, \t n_features 64\n"
          ]
        },
        {
          "output_type": "display_data",
          "data": {
            "text/plain": [
              "<Figure size 864x864 with 20 Axes>"
            ],
            "image/png": "[encoded data removed]"
          },
          "metadata": {}
        },
        {
          "output_type": "display_data",
          "data": {
            "text/plain": [
              "<Figure size 864x864 with 20 Axes>"
            ],
            "image/png": "[encoded data removed]"
          },
          "metadata": {}
        }
      ]
    },
    {
      "cell_type": "markdown",
      "source": [
        "The explained_variance_ratio_ attribute of the PCA object contains the fraction of the total variance in the original dataset that is explained by each principal component.\n",
        "\n",
        "When we apply PCA to a high-dimensional dataset, the algorithm finds a new set of orthogonal directions (the principal components) that represent the data in a lower-dimensional space. The first principal component captures the largest amount of variation in the data, the second principal component captures the second-largest amount of variation, and so on.\n",
        "\n",
        "The explained variance ratio for each principal component is a measure of how much of the total variation in the dataset can be explained by that component. For example, if the explained variance ratio for the first principal component is 0.6, this means that the first principal component captures 60% of the total variation in the dataset.\n",
        "\n",
        "The sum of the explained variance ratios for all principal components is equal to 1, since they collectively account for all of the variation in the dataset.\n",
        "\n",
        "The explained variance ratio is a useful metric for evaluating the performance of PCA because it allows us to determine how much information is preserved by reducing the dimensionality of the dataset. We typically want to retain as much of the original variation as possible while reducing the dimensionality, so a high explained variance ratio is desirable."
      ],
      "metadata": {
        "id": "oZz2nFfZVRYb"
      }
    },
    {
      "cell_type": "code",
      "source": [
        "from sklearn.metrics import adjusted_rand_score\n"
      ],
      "metadata": {
        "id": "HO5a71rqacNA"
      },
      "execution_count": 6,
      "outputs": []
    },
    {
      "cell_type": "code",
      "source": [
        "X_train=X_train\n",
        "y_train=y_train"
      ],
      "metadata": {
        "id": "U7xBOVUsXWWy"
      },
      "execution_count": 7,
      "outputs": []
    },
    {
      "cell_type": "code",
      "source": [
        "from sklearn.decomposition import PCA\n",
        "from sklearn.cluster import KMeans\n",
        "from sklearn.pipeline import Pipeline\n",
        "from sklearn.model_selection import GridSearchCV\n",
        "from sklearn.metrics import adjusted_rand_score\n",
        "\n",
        "# Define the PCA and clustering pipelines\n",
        "pca = PCA()\n",
        "kmeans = KMeans()\n",
        "\n",
        "pipeline = Pipeline(steps=[('pca', pca), ('kmeans', kmeans)])\n",
        "\n",
        "# Define the hyperparameter grid\n",
        "param_grid = {\n",
        "    'pca__n_components': range(1,15),#from 1 to 14 dimentions Only\n",
        "    'kmeans__n_clusters': [10],#the number of digits is Fixed 10\n",
        "    'kmeans__init': ['k-means++', 'random'],\n",
        "    'kmeans__max_iter': [100, 200, 300],\n",
        "}\n",
        "\n",
        "# Define the evaluation metric\n",
        "scoring = 'adjusted_rand_score'\n",
        "\n",
        "# Perform grid search\n",
        "search = GridSearchCV(pipeline, param_grid=param_grid, scoring=scoring, n_jobs=-1)\n",
        "search.fit(X_train, y_train)\n",
        "\n",
        "# Print the best hyperparameters and score\n",
        "print(\"Best parameters: \", search.best_params_)\n",
        "print(\"Best score: {:.2f}\".format(search.best_score_))\n"
      ],
      "metadata": {
        "colab": {
          "base_uri": "https://localhost:8080/"
        },
        "id": "Slv-D56kcugk",
        "outputId": "35f16aea-8d6b-4eff-8938-7e2700d2efa6"
      },
      "execution_count": 9,
      "outputs": [
        {
          "output_type": "stream",
          "name": "stdout",
          "text": [
            "Best parameters:  {'kmeans__init': 'random', 'kmeans__max_iter': 100, 'kmeans__n_clusters': 10, 'pca__n_components': 14}\n",
            "Best score: 0.49\n"
          ]
        }
      ]
    },
    {
      "cell_type": "code",
      "source": [
        "from sklearn.decomposition import PCA\n",
        "from sklearn.cluster import KMeans\n",
        "from sklearn.pipeline import Pipeline\n",
        "from sklearn.model_selection import GridSearchCV\n",
        "from sklearn.metrics import silhouette_score, davies_bouldin_score,make_scorer\n",
        "import matplotlib.pyplot as plt\n",
        "\n",
        "# Define the PCA and clustering pipelines\n",
        "pca = PCA()\n",
        "kmeans = KMeans()\n",
        "\n",
        "pipeline = Pipeline(steps=[('pca', pca), ('kmeans', kmeans)])\n",
        "\n",
        "# Define the hyperparameter grid\n",
        "param_grid = {\n",
        "    'pca__n_components': range(1,X_train.shape[1]+1),\n",
        "    'kmeans__n_clusters': [10],\n",
        "    'kmeans__init': ['k-means++','random'],\n",
        "    'kmeans__max_iter': [100,200,300],\n",
        "}\n",
        "\n",
        "# Define the evaluation metrics\n",
        "def my_silhouette_score(model, X, y=None):\n",
        "    preds = model.fit_predict(X)\n",
        "    return silhouette_score(X, preds) if len(set(preds)) > 1 else float('nan')\n",
        "def my_davies_bouldin_score(model, X, y=None):\n",
        "    preds = model.fit_predict(X)\n",
        "    return davies_bouldin_score(X, preds) if len(set(preds)) > 1 else float('nan')\n",
        "scoring = {\n",
        "    'Silhouette': my_silhouette_score,\n",
        "    'Davies-Bouldin': my_davies_bouldin_score\n",
        "}\n",
        "\n",
        "# Perform grid search\n",
        "search = GridSearchCV(pipeline, param_grid=param_grid, scoring=scoring, refit=False, n_jobs=-1)\n",
        "search.fit(X_train, y_train)\n",
        "plt.figure(figsize=(10, 6))\n",
        "\n",
        "# Extract the results\n",
        "n_components = search.cv_results_['param_pca__n_components'].data.astype(int)\n",
        "n_clusters = search.cv_results_['param_kmeans__n_clusters'].data.astype(int)\n",
        "init = search.cv_results_['param_kmeans__init'].data.astype(str)\n",
        "max_iter = search.cv_results_['param_kmeans__max_iter'].data.astype(int)\n",
        "# Plot the results\n",
        "plt.figure(figsize=(10, 5))\n",
        "plt.plot(n_components, search.cv_results_['mean_test_Silhouette'], label='Silhouette')\n",
        "plt.plot(n_components, search.cv_results_['mean_test_Davies-Bouldin'], label='Davies-Bouldin')\n",
        "plt.xlabel('Number of components')\n",
        "plt.ylabel('Score')\n",
        "plt.xticks(np.arange(1, X_train.shape[1], step=5))\n",
        "\n",
        "plt.legend()\n",
        "plt.show()\n",
        "\n"
      ],
      "metadata": {
        "colab": {
          "base_uri": "https://localhost:8080/",
          "height": 351
        },
        "id": "RLFkYloXcurP",
        "outputId": "d6b3247b-8d05-483a-98a8-304aad81c98c"
      },
      "execution_count": 32,
      "outputs": [
        {
          "output_type": "display_data",
          "data": {
            "text/plain": [
              "<Figure size 720x432 with 0 Axes>"
            ]
          },
          "metadata": {}
        },
        {
          "output_type": "display_data",
          "data": {
            "text/plain": [
              "<Figure size 720x360 with 1 Axes>"
            ],
            "image/png": "[encoded data removed]"
          },
          "metadata": {
            "needs_background": "light"
          }
        }
      ]
    }
  ]
}