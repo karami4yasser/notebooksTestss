{
  "nbformat": 4,
  "nbformat_minor": 0,
  "metadata": {
    "colab": {
      "provenance": []
    },
    "kernelspec": {
      "name": "python3",
      "display_name": "Python 3"
    },
    "language_info": {
      "name": "python"
    }
  },
  "cells": [
    {
      "cell_type": "code",
      "execution_count": 125,
      "metadata": {
        "id": "JzjMGV4IrW1X"
      },
      "outputs": [],
      "source": [
        "import numpy as np \n",
        "import pandas as pd \n",
        "from sklearn.datasets import load_digits\n",
        "from sklearn.cluster import KMeans\n",
        "from sklearn.decomposition import PCA\n",
        "import matplotlib.pyplot as plt\n",
        "from sklearn.preprocessing import scale\n",
        "from sklearn.model_selection import train_test_split\n",
        "from sklearn import metrics\n",
        "import seaborn as sns"
      ]
    },
    {
      "cell_type": "code",
      "source": [
        "#load is used to load datasets of the sklearn.datasets \n",
        "digits = load_digits()"
      ],
      "metadata": {
        "id": "geb22K48sVzF"
      },
      "execution_count": 126,
      "outputs": []
    },
    {
      "cell_type": "code",
      "source": [
        "#\"scale\" function is an inbuilt function in the Python sklearn.preprocessing library which is used to change the image size by scaling each pixel value by given columns and rows.\n",
        "data = scale(digits.data)"
      ],
      "metadata": {
        "id": "-_mAWIJC6j-0"
      },
      "execution_count": 127,
      "outputs": []
    },
    {
      "cell_type": "code",
      "source": [
        "\"\"\"\n",
        "This functio is defined to visualize some of the 10 clusters of the dataset\n",
        "\n",
        "\"\"\"\n",
        "def print_digits(images,y,max_n=10):\n",
        "    # set up the figure size in inches\n",
        "    fig = plt.figure(figsize=(12, 12))\n",
        "    fig.subplots_adjust(left=0, right=1, bottom=0, top=1, hspace=0.05, wspace=0.05)\n",
        "    i = 0\n",
        "    while i < max_n and i < images.shape[0]:\n",
        "        # plot the images in a matrix of 20x20\n",
        "        p = fig.add_subplot(20, 20, i + 1, xticks=[], yticks=[])\n",
        "        p.imshow(images[i], cmap=plt.cm.bone)\n",
        "        # label the image with the target value\n",
        "        p.text(0, 14, str(y[i]))\n",
        "        i = i + 1\n",
        "    \n",
        "print_digits(digits.images, digits.target, max_n=10)"
      ],
      "metadata": {
        "colab": {
          "base_uri": "https://localhost:8080/",
          "height": 108
        },
        "id": "tLnC_7HWsunU",
        "outputId": "62bf4034-1eeb-48ab-a46a-5258424a26d5"
      },
      "execution_count": 128,
      "outputs": [
        {
          "output_type": "display_data",
          "data": {
            "text/plain": [
              "<Figure size 864x864 with 10 Axes>"
            ],
            "image/png": "[encoded data removed]"
          },
          "metadata": {}
        }
      ]
    },
    {
      "cell_type": "code",
      "source": [
        "#returns the shape of teh first image in the dataset \n",
        "number_of_instances=digits.images.shape[0]\n",
        "#Splitting the training and testing dataset (defining the target variable)\n",
        "X_train, X_test, y_train, y_test, images_train, images_test = train_test_split(\n",
        "        data, digits.target, digits.images.reshape(number_of_instances,64),test_size=0.25, random_state=42)\n",
        "#Returns the number of samples and features in the training set \n",
        "n_samples, n_features = X_train.shape\n",
        "#returns the length of the labels (y_train) of only unique values\n",
        "n_digits = len(np.unique(y_train))\n",
        "labels = y_train\n",
        "\n",
        "# Reshape images back\n",
        "images_train=images_train.reshape(images_train.shape[0],8,8)\n",
        "images_test=images_test.reshape(images_test.shape[0],8,8)\n",
        "\n",
        "#visualization of the different digits \n",
        "print_digits(images_train, y_train, max_n=20)\n",
        "print_digits(images_test, y_test, max_n=20)\n",
        "\n",
        "print(\"n_digits: %d, \\t n_samples %d, \\t n_features %d\"\n",
        "      % (n_digits, n_samples, n_features))"
      ],
      "metadata": {
        "colab": {
          "base_uri": "https://localhost:8080/",
          "height": 216
        },
        "id": "PBQdgJ9ev0bk",
        "outputId": "d79b4618-db88-4275-8691-890f0a8493e9"
      },
      "execution_count": 129,
      "outputs": [
        {
          "output_type": "stream",
          "name": "stdout",
          "text": [
            "n_digits: 10, \t n_samples 1347, \t n_features 64\n"
          ]
        },
        {
          "output_type": "display_data",
          "data": {
            "text/plain": [
              "<Figure size 864x864 with 20 Axes>"
            ],
            "image/png": "[encoded data removed]"
          },
          "metadata": {}
        },
        {
          "output_type": "display_data",
          "data": {
            "text/plain": [
              "<Figure size 864x864 with 20 Axes>"
            ],
            "image/png": "[encoded data removed]"
          },
          "metadata": {}
        }
      ]
    },
    {
      "cell_type": "markdown",
      "source": [
        "The explained_variance_ratio_ attribute of the PCA object contains the fraction of the total variance in the original dataset that is explained by each principal component.\n",
        "\n",
        "When we apply PCA to a high-dimensional dataset, the algorithm finds a new set of orthogonal directions (the principal components) that represent the data in a lower-dimensional space. The first principal component captures the largest amount of variation in the data, the second principal component captures the second-largest amount of variation, and so on.\n",
        "\n",
        "The explained variance ratio for each principal component is a measure of how much of the total variation in the dataset can be explained by that component. For example, if the explained variance ratio for the first principal component is 0.6, this means that the first principal component captures 60% of the total variation in the dataset.\n",
        "\n",
        "The sum of the explained variance ratios for all principal components is equal to 1, since they collectively account for all of the variation in the dataset.\n",
        "\n",
        "The explained variance ratio is a useful metric for evaluating the performance of PCA because it allows us to determine how much information is preserved by reducing the dimensionality of the dataset. We typically want to retain as much of the original variation as possible while reducing the dimensionality, so a high explained variance ratio is desirable."
      ],
      "metadata": {
        "id": "oZz2nFfZVRYb"
      }
    },
    {
      "cell_type": "code",
      "source": [
        "from sklearn.metrics import adjusted_rand_score\n"
      ],
      "metadata": {
        "id": "HO5a71rqacNA"
      },
      "execution_count": 130,
      "outputs": []
    },
    {
      "cell_type": "code",
      "source": [
        "X_train=X_train\n",
        "y_train=y_train"
      ],
      "metadata": {
        "id": "U7xBOVUsXWWy"
      },
      "execution_count": 131,
      "outputs": []
    },
    {
      "cell_type": "code",
      "source": [
        "best_Dimention=X_train.shape[1]\n",
        "for n in range(X_train.shape[1], 0, -1):\n",
        "  pca = PCA(n_components=n).fit(X_train)\n",
        "  reduced_X_train = pca.transform(X_train)\n",
        "  clustering_features = KMeans(init='k-means++', n_clusters=10, random_state=42)\n",
        "#the \"fit()\" function implements a fit method to learn from data\n",
        "  clustering_features.fit(reduced_X_train)\n",
        "  # Calculate explained variance ratio\n",
        "  explained_var_ratio = pca.explained_variance_ratio_\n",
        "  # Calculate adjusted Rand index\n",
        "  labels_pred = clustering_features.labels_\n",
        "  ari = adjusted_rand_score(y_train, labels_pred)\n",
        "  r=0\n",
        "# Print explained variance ratio for each principal component\n",
        "  for i, ratio in enumerate(explained_var_ratio):\n",
        "    r+=ratio\n",
        "  if n<best_Dimention and r>=0.9:\n",
        "    best_Dimention=n\n",
        "  print(\"PCA with {} dimentions the total explained variance ratio: {:.5f}, and the adjusted_rand_score For The Clustring Algorithm  is {:.5f} \".format(n, r,ari))\n",
        "\n"
      ],
      "metadata": {
        "colab": {
          "base_uri": "https://localhost:8080/"
        },
        "id": "d5gLOElXWnYL",
        "outputId": "840de34e-42b6-429f-eff7-9321c5453bab"
      },
      "execution_count": 132,
      "outputs": [
        {
          "output_type": "stream",
          "name": "stdout",
          "text": [
            "PCA with 64 dimentions the total explained variance ratio: 1.00000, and the adjusted_rand_score For The Clustring Algorithm  is 0.54543 \n",
            "PCA with 63 dimentions the total explained variance ratio: 1.00000, and the adjusted_rand_score For The Clustring Algorithm  is 0.54543 \n",
            "PCA with 62 dimentions the total explained variance ratio: 1.00000, and the adjusted_rand_score For The Clustring Algorithm  is 0.54543 \n",
            "PCA with 61 dimentions the total explained variance ratio: 1.00000, and the adjusted_rand_score For The Clustring Algorithm  is 0.54543 \n",
            "PCA with 60 dimentions the total explained variance ratio: 0.99923, and the adjusted_rand_score For The Clustring Algorithm  is 0.48375 \n",
            "PCA with 59 dimentions the total explained variance ratio: 0.99824, and the adjusted_rand_score For The Clustring Algorithm  is 0.41467 \n",
            "PCA with 58 dimentions the total explained variance ratio: 0.99705, and the adjusted_rand_score For The Clustring Algorithm  is 0.51666 \n",
            "PCA with 57 dimentions the total explained variance ratio: 0.99579, and the adjusted_rand_score For The Clustring Algorithm  is 0.44818 \n",
            "PCA with 56 dimentions the total explained variance ratio: 0.99440, and the adjusted_rand_score For The Clustring Algorithm  is 0.53207 \n",
            "PCA with 55 dimentions the total explained variance ratio: 0.99290, and the adjusted_rand_score For The Clustring Algorithm  is 0.53177 \n",
            "PCA with 54 dimentions the total explained variance ratio: 0.99138, and the adjusted_rand_score For The Clustring Algorithm  is 0.53669 \n",
            "PCA with 53 dimentions the total explained variance ratio: 0.98964, and the adjusted_rand_score For The Clustring Algorithm  is 0.52598 \n",
            "PCA with 52 dimentions the total explained variance ratio: 0.98781, and the adjusted_rand_score For The Clustring Algorithm  is 0.51696 \n",
            "PCA with 51 dimentions the total explained variance ratio: 0.98596, and the adjusted_rand_score For The Clustring Algorithm  is 0.47971 \n",
            "PCA with 50 dimentions the total explained variance ratio: 0.98385, and the adjusted_rand_score For The Clustring Algorithm  is 0.47865 \n",
            "PCA with 49 dimentions the total explained variance ratio: 0.98165, and the adjusted_rand_score For The Clustring Algorithm  is 0.46437 \n",
            "PCA with 48 dimentions the total explained variance ratio: 0.97920, and the adjusted_rand_score For The Clustring Algorithm  is 0.47935 \n",
            "PCA with 47 dimentions the total explained variance ratio: 0.97652, and the adjusted_rand_score For The Clustring Algorithm  is 0.48074 \n",
            "PCA with 46 dimentions the total explained variance ratio: 0.97375, and the adjusted_rand_score For The Clustring Algorithm  is 0.46070 \n",
            "PCA with 45 dimentions the total explained variance ratio: 0.97081, and the adjusted_rand_score For The Clustring Algorithm  is 0.40385 \n",
            "PCA with 44 dimentions the total explained variance ratio: 0.96774, and the adjusted_rand_score For The Clustring Algorithm  is 0.48026 \n",
            "PCA with 43 dimentions the total explained variance ratio: 0.96447, and the adjusted_rand_score For The Clustring Algorithm  is 0.48307 \n",
            "PCA with 42 dimentions the total explained variance ratio: 0.96095, and the adjusted_rand_score For The Clustring Algorithm  is 0.51275 \n",
            "PCA with 41 dimentions the total explained variance ratio: 0.95708, and the adjusted_rand_score For The Clustring Algorithm  is 0.51536 \n",
            "PCA with 40 dimentions the total explained variance ratio: 0.95313, and the adjusted_rand_score For The Clustring Algorithm  is 0.46674 \n",
            "PCA with 39 dimentions the total explained variance ratio: 0.94893, and the adjusted_rand_score For The Clustring Algorithm  is 0.48766 \n",
            "PCA with 38 dimentions the total explained variance ratio: 0.94445, and the adjusted_rand_score For The Clustring Algorithm  is 0.45360 \n",
            "PCA with 37 dimentions the total explained variance ratio: 0.93981, and the adjusted_rand_score For The Clustring Algorithm  is 0.46493 \n",
            "PCA with 36 dimentions the total explained variance ratio: 0.93456, and the adjusted_rand_score For The Clustring Algorithm  is 0.35778 \n",
            "PCA with 35 dimentions the total explained variance ratio: 0.92917, and the adjusted_rand_score For The Clustring Algorithm  is 0.47832 \n",
            "PCA with 34 dimentions the total explained variance ratio: 0.92358, and the adjusted_rand_score For The Clustring Algorithm  is 0.48151 \n",
            "PCA with 33 dimentions the total explained variance ratio: 0.91727, and the adjusted_rand_score For The Clustring Algorithm  is 0.40599 \n",
            "PCA with 32 dimentions the total explained variance ratio: 0.91078, and the adjusted_rand_score For The Clustring Algorithm  is 0.48304 \n",
            "PCA with 31 dimentions the total explained variance ratio: 0.90395, and the adjusted_rand_score For The Clustring Algorithm  is 0.47034 \n",
            "PCA with 30 dimentions the total explained variance ratio: 0.89673, and the adjusted_rand_score For The Clustring Algorithm  is 0.54342 \n",
            "PCA with 29 dimentions the total explained variance ratio: 0.88912, and the adjusted_rand_score For The Clustring Algorithm  is 0.48360 \n",
            "PCA with 28 dimentions the total explained variance ratio: 0.88136, and the adjusted_rand_score For The Clustring Algorithm  is 0.47857 \n",
            "PCA with 27 dimentions the total explained variance ratio: 0.87330, and the adjusted_rand_score For The Clustring Algorithm  is 0.47236 \n",
            "PCA with 26 dimentions the total explained variance ratio: 0.86478, and the adjusted_rand_score For The Clustring Algorithm  is 0.47510 \n",
            "PCA with 25 dimentions the total explained variance ratio: 0.85588, and the adjusted_rand_score For The Clustring Algorithm  is 0.45454 \n",
            "PCA with 24 dimentions the total explained variance ratio: 0.84598, and the adjusted_rand_score For The Clustring Algorithm  is 0.47941 \n",
            "PCA with 23 dimentions the total explained variance ratio: 0.83567, and the adjusted_rand_score For The Clustring Algorithm  is 0.47422 \n",
            "PCA with 22 dimentions the total explained variance ratio: 0.82448, and the adjusted_rand_score For The Clustring Algorithm  is 0.47202 \n",
            "PCA with 21 dimentions the total explained variance ratio: 0.81118, and the adjusted_rand_score For The Clustring Algorithm  is 0.40938 \n",
            "PCA with 20 dimentions the total explained variance ratio: 0.79763, and the adjusted_rand_score For The Clustring Algorithm  is 0.46924 \n",
            "PCA with 19 dimentions the total explained variance ratio: 0.78225, and the adjusted_rand_score For The Clustring Algorithm  is 0.41112 \n",
            "PCA with 18 dimentions the total explained variance ratio: 0.76640, and the adjusted_rand_score For The Clustring Algorithm  is 0.47243 \n",
            "PCA with 17 dimentions the total explained variance ratio: 0.74979, and the adjusted_rand_score For The Clustring Algorithm  is 0.44652 \n",
            "PCA with 16 dimentions the total explained variance ratio: 0.73114, and the adjusted_rand_score For The Clustring Algorithm  is 0.40980 \n",
            "PCA with 15 dimentions the total explained variance ratio: 0.71055, and the adjusted_rand_score For The Clustring Algorithm  is 0.47562 \n",
            "PCA with 14 dimentions the total explained variance ratio: 0.68896, and the adjusted_rand_score For The Clustring Algorithm  is 0.46572 \n",
            "PCA with 13 dimentions the total explained variance ratio: 0.66634, and the adjusted_rand_score For The Clustring Algorithm  is 0.53608 \n",
            "PCA with 12 dimentions the total explained variance ratio: 0.64316, and the adjusted_rand_score For The Clustring Algorithm  is 0.44589 \n",
            "PCA with 11 dimentions the total explained variance ratio: 0.61747, and the adjusted_rand_score For The Clustring Algorithm  is 0.45431 \n",
            "PCA with 10 dimentions the total explained variance ratio: 0.58910, and the adjusted_rand_score For The Clustring Algorithm  is 0.43424 \n",
            "PCA with 9 dimentions the total explained variance ratio: 0.55891, and the adjusted_rand_score For The Clustring Algorithm  is 0.41032 \n",
            "PCA with 8 dimentions the total explained variance ratio: 0.52581, and the adjusted_rand_score For The Clustring Algorithm  is 0.44137 \n",
            "PCA with 7 dimentions the total explained variance ratio: 0.49121, and the adjusted_rand_score For The Clustring Algorithm  is 0.41462 \n",
            "PCA with 6 dimentions the total explained variance ratio: 0.45179, and the adjusted_rand_score For The Clustring Algorithm  is 0.45665 \n",
            "PCA with 5 dimentions the total explained variance ratio: 0.40682, and the adjusted_rand_score For The Clustring Algorithm  is 0.45594 \n",
            "PCA with 4 dimentions the total explained variance ratio: 0.35806, and the adjusted_rand_score For The Clustring Algorithm  is 0.47536 \n",
            "PCA with 3 dimentions the total explained variance ratio: 0.29612, and the adjusted_rand_score For The Clustring Algorithm  is 0.44489 \n",
            "PCA with 2 dimentions the total explained variance ratio: 0.21261, and the adjusted_rand_score For The Clustring Algorithm  is 0.31454 \n",
            "PCA with 1 dimentions the total explained variance ratio: 0.11808, and the adjusted_rand_score For The Clustring Algorithm  is 0.15309 \n"
          ]
        }
      ]
    },
    {
      "cell_type": "code",
      "source": [
        "print(\"The Best Dimention based on the explained variance ratio >=0.9 is :\",best_Dimention)\n"
      ],
      "metadata": {
        "colab": {
          "base_uri": "https://localhost:8080/"
        },
        "id": "zuQ1Is9xX78G",
        "outputId": "ab5ed146-4cda-437a-c550-685a5119f789"
      },
      "execution_count": 133,
      "outputs": [
        {
          "output_type": "stream",
          "name": "stdout",
          "text": [
            "The Best Dimention based on the explained variance ratio >=0.9 is : 31\n"
          ]
        }
      ]
    }
  ]
}