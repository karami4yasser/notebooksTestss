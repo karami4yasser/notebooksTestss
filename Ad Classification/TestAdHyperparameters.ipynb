{
  "nbformat": 4,
  "nbformat_minor": 0,
  "metadata": {
    "colab": {
      "provenance": []
    },
    "kernelspec": {
      "name": "python3",
      "display_name": "Python 3"
    },
    "language_info": {
      "name": "python"
    }
  },
  "cells": [
    {
      "cell_type": "code",
      "source": [
        "import numpy as np                   \n",
        "import pandas as pd                   \n",
        "import matplotlib.pyplot as plt  \n",
        "from sklearn.linear_model import LogisticRegression     \n",
        "import seaborn as sns  \n",
        "import io\n",
        "from sklearn.model_selection import train_test_split\n",
        "from sklearn.naive_bayes import GaussianNB\n",
        "from sklearn.tree import DecisionTreeClassifier\n",
        "from sklearn import metrics"
      ],
      "metadata": {
        "id": "onQ5vjgaVldL"
      },
      "execution_count": 10,
      "outputs": []
    },
    {
      "cell_type": "code",
      "source": [
        "#read_csv is the function that enables you to read csv files. it is a prebuild function in pandas\n",
        "dataframe = pd.read_csv(\"advertising.csv\")"
      ],
      "metadata": {
        "id": "PUJ1ESu8FLVe"
      },
      "execution_count": 11,
      "outputs": []
    },
    {
      "cell_type": "code",
      "source": [
        "#We are deciding which columns are numerical and which are categorical \n",
        "numeric_columns = ['Daily Time Spent on Site', 'Age', 'Area Income', 'Daily Internet Usage' ]\n",
        "categorical_columns = [ 'Ad Topic Line', 'City', 'Male', 'Country', 'Clicked on Ad' ]"
      ],
      "metadata": {
        "id": "ae-KXqQFn_Ms"
      },
      "execution_count": 12,
      "outputs": []
    },
    {
      "cell_type": "code",
      "source": [
        "#Transforming categorical data into codes \n",
        "\"\"\"\n",
        "https://pandas.pydata.org/docs/user_guide/categorical.html\n",
        "\"\"\"\n",
        "dataframe['City Codes']= dataframe['City'].astype('category').cat.codes\n",
        "dataframe['Country Codes'] = dataframe['Country'].astype('category').cat.codes\n",
        "dataframe[['City Codes','Country Codes']].head(5)"
      ],
      "metadata": {
        "colab": {
          "base_uri": "https://localhost:8080/",
          "height": 206
        },
        "id": "gyGuR4i3oV-Z",
        "outputId": "8fd58d77-0b07-473e-f963-eb2d5dc9a667"
      },
      "execution_count": 13,
      "outputs": [
        {
          "output_type": "execute_result",
          "data": {
            "text/plain": [
              "   City Codes  Country Codes\n",
              "0         960            215\n",
              "1         902            147\n",
              "2         111            184\n",
              "3         938            103\n",
              "4         804             96"
            ],
            "text/html": [
              "\n",
              "  <div id=\"df-5559e422-64e9-4ffe-9746-5b5f6c6da340\">\n",
              "    <div class=\"colab-df-container\">\n",
              "      <div>\n",
              "<style scoped>\n",
              "    .dataframe tbody tr th:only-of-type {\n",
              "        vertical-align: middle;\n",
              "    }\n",
              "\n",
              "    .dataframe tbody tr th {\n",
              "        vertical-align: top;\n",
              "    }\n",
              "\n",
              "    .dataframe thead th {\n",
              "        text-align: right;\n",
              "    }\n",
              "</style>\n",
              "<table border=\"1\" class=\"dataframe\">\n",
              "  <thead>\n",
              "    <tr style=\"text-align: right;\">\n",
              "      <th></th>\n",
              "      <th>City Codes</th>\n",
              "      <th>Country Codes</th>\n",
              "    </tr>\n",
              "  </thead>\n",
              "  <tbody>\n",
              "    <tr>\n",
              "      <th>0</th>\n",
              "      <td>960</td>\n",
              "      <td>215</td>\n",
              "    </tr>\n",
              "    <tr>\n",
              "      <th>1</th>\n",
              "      <td>902</td>\n",
              "      <td>147</td>\n",
              "    </tr>\n",
              "    <tr>\n",
              "      <th>2</th>\n",
              "      <td>111</td>\n",
              "      <td>184</td>\n",
              "    </tr>\n",
              "    <tr>\n",
              "      <th>3</th>\n",
              "      <td>938</td>\n",
              "      <td>103</td>\n",
              "    </tr>\n",
              "    <tr>\n",
              "      <th>4</th>\n",
              "      <td>804</td>\n",
              "      <td>96</td>\n",
              "    </tr>\n",
              "  </tbody>\n",
              "</table>\n",
              "</div>\n",
              "      <button class=\"colab-df-convert\" onclick=\"convertToInteractive('df-5559e422-64e9-4ffe-9746-5b5f6c6da340')\"\n",
              "              title=\"Convert this dataframe to an interactive table.\"\n",
              "              style=\"display:none;\">\n",
              "        \n",
              "  <svg xmlns=\"http://www.w3.org/2000/svg\" height=\"24px\"viewBox=\"0 0 24 24\"\n",
              "       width=\"24px\">\n",
              "    <path d=\"M0 0h24v24H0V0z\" fill=\"none\"/>\n",
              "    <path d=\"M18.56 5.44l.94 2.06.94-2.06 2.06-.94-2.06-.94-.94-2.06-.94 2.06-2.06.94zm-11 1L8.5 8.5l.94-2.06 2.06-.94-2.06-.94L8.5 2.5l-.94 2.06-2.06.94zm10 10l.94 2.06.94-2.06 2.06-.94-2.06-.94-.94-2.06-.94 2.06-2.06.94z\"/><path d=\"M17.41 7.96l-1.37-1.37c-.4-.4-.92-.59-1.43-.59-.52 0-1.04.2-1.43.59L10.3 9.45l-7.72 7.72c-.78.78-.78 2.05 0 2.83L4 21.41c.39.39.9.59 1.41.59.51 0 1.02-.2 1.41-.59l7.78-7.78 2.81-2.81c.8-.78.8-2.07 0-2.86zM5.41 20L4 18.59l7.72-7.72 1.47 1.35L5.41 20z\"/>\n",
              "  </svg>\n",
              "      </button>\n",
              "      \n",
              "  <style>\n",
              "    .colab-df-container {\n",
              "      display:flex;\n",
              "      flex-wrap:wrap;\n",
              "      gap: 12px;\n",
              "    }\n",
              "\n",
              "    .colab-df-convert {\n",
              "      background-color: #E8F0FE;\n",
              "      border: none;\n",
              "      border-radius: 50%;\n",
              "      cursor: pointer;\n",
              "      display: none;\n",
              "      fill: #1967D2;\n",
              "      height: 32px;\n",
              "      padding: 0 0 0 0;\n",
              "      width: 32px;\n",
              "    }\n",
              "\n",
              "    .colab-df-convert:hover {\n",
              "      background-color: #E2EBFA;\n",
              "      box-shadow: 0px 1px 2px rgba(60, 64, 67, 0.3), 0px 1px 3px 1px rgba(60, 64, 67, 0.15);\n",
              "      fill: #174EA6;\n",
              "    }\n",
              "\n",
              "    [theme=dark] .colab-df-convert {\n",
              "      background-color: #3B4455;\n",
              "      fill: #D2E3FC;\n",
              "    }\n",
              "\n",
              "    [theme=dark] .colab-df-convert:hover {\n",
              "      background-color: #434B5C;\n",
              "      box-shadow: 0px 1px 3px 1px rgba(0, 0, 0, 0.15);\n",
              "      filter: drop-shadow(0px 1px 2px rgba(0, 0, 0, 0.3));\n",
              "      fill: #FFFFFF;\n",
              "    }\n",
              "  </style>\n",
              "\n",
              "      <script>\n",
              "        const buttonEl =\n",
              "          document.querySelector('#df-5559e422-64e9-4ffe-9746-5b5f6c6da340 button.colab-df-convert');\n",
              "        buttonEl.style.display =\n",
              "          google.colab.kernel.accessAllowed ? 'block' : 'none';\n",
              "\n",
              "        async function convertToInteractive(key) {\n",
              "          const element = document.querySelector('#df-5559e422-64e9-4ffe-9746-5b5f6c6da340');\n",
              "          const dataTable =\n",
              "            await google.colab.kernel.invokeFunction('convertToInteractive',\n",
              "                                                     [key], {});\n",
              "          if (!dataTable) return;\n",
              "\n",
              "          const docLinkHtml = 'Like what you see? Visit the ' +\n",
              "            '<a target=\"_blank\" href=https://colab.research.google.com/notebooks/data_table.ipynb>data table notebook</a>'\n",
              "            + ' to learn more about interactive tables.';\n",
              "          element.innerHTML = '';\n",
              "          dataTable['output_type'] = 'display_data';\n",
              "          await google.colab.output.renderOutput(dataTable, element);\n",
              "          const docLink = document.createElement('div');\n",
              "          docLink.innerHTML = docLinkHtml;\n",
              "          element.appendChild(docLink);\n",
              "        }\n",
              "      </script>\n",
              "    </div>\n",
              "  </div>\n",
              "  "
            ]
          },
          "metadata": {},
          "execution_count": 13
        }
      ]
    },
    {
      "cell_type": "code",
      "source": [
        "\n",
        "def clean_dataset(df):\n",
        "    assert isinstance(df, pd.DataFrame), \"df needs to be a pd.DataFrame\"\n",
        "    df.dropna(inplace=True)\n",
        "    indices_to_keep = ~df.isin([np.nan, np.inf, -np.inf]).any(axis=1)\n",
        "    return df[indices_to_keep]\n",
        "dataframe=clean_dataset(dataframe)"
      ],
      "metadata": {
        "id": "77oAcaPnoZ47"
      },
      "execution_count": 14,
      "outputs": []
    },
    {
      "cell_type": "code",
      "source": [
        "X = dataframe.drop(labels=['Ad Topic Line','City','Country','Timestamp','Clicked on Ad'], axis=1)\n",
        "\n",
        "Y = dataframe['Clicked on Ad']"
      ],
      "metadata": {
        "id": "jW0a8LKvobad"
      },
      "execution_count": 15,
      "outputs": []
    },
    {
      "cell_type": "code",
      "source": [
        "#Splitting the dataset into : training set and testing set \n",
        "X_train, X_test, Y_train, Y_test = train_test_split(X, Y, test_size=0.3, random_state = 42)"
      ],
      "metadata": {
        "id": "kALkjAo4odQT"
      },
      "execution_count": 16,
      "outputs": []
    },
    {
      "cell_type": "code",
      "source": [
        "\n",
        "#training of the logistic regression model \n",
        "log_reg_model = LogisticRegression()\n",
        "log_reg_model.fit(X_train, Y_train)\n",
        "log_reg_pred = log_reg_model.predict(X_test)\n",
        "\n",
        "#training of the Naive Bayes model \n",
        "nav_bayes_model = GaussianNB()\n",
        "nav_bayes_model.fit(X_train, Y_train)\n",
        "nav_bayes_pred = nav_bayes_model.predict(X_test)\n",
        "\n",
        "#Training of the decision tree model \n",
        "dec_tree_model = DecisionTreeClassifier()\n",
        "dec_tree_model.fit(X_train, Y_train)\n",
        "dec_tree_pred = dec_tree_model.predict(X_test)\n",
        "\n"
      ],
      "metadata": {
        "id": "-XOd4MzFoeoD"
      },
      "execution_count": 17,
      "outputs": []
    },
    {
      "cell_type": "code",
      "source": [
        "\n",
        "#Accuracy using Logistic Regression \n",
        "log_reg_accuracy = metrics.accuracy_score(log_reg_pred, Y_test)\n",
        "print(\"Accuarcy of this LG model is: \\n\\n\", log_reg_accuracy*100)\n",
        "#the classification report for precision, recall, F1 Score and support metrics: case of Logistic Regression\n",
        "print('\\n Classification Report for LG: \\n', metrics.classification_report(log_reg_pred, Y_test))\n",
        "\n",
        "#Accuracy using Naive Bayes-Bernoulli \n",
        "nav_bayes_accuracy = metrics.accuracy_score(nav_bayes_pred, Y_test)\n",
        "print(\"Accuarcy of this NB-Bernoulli model is: \\n\\n\", nav_bayes_accuracy*100)\n",
        "#the classification report for precision, recall, F1 Score and support metrics: case of Naive Bayes\n",
        "print('\\n Classification Report for NB: \\n', metrics.classification_report(nav_bayes_pred, Y_test))\n",
        "\n",
        "#Accuracy using Decison Tree\n",
        "dec_tree_accuracy = metrics.accuracy_score(dec_tree_pred, Y_test)\n",
        "print(\"Accuarcy of this DT model is: \\n\\n\", dec_tree_accuracy*100)\n",
        "#the classification report for precision, recall, F1 Score and support metrics: case of Decision Tree\n",
        "print('\\n Classification Report for DT: \\n', metrics.classification_report(dec_tree_pred, Y_test))"
      ],
      "metadata": {
        "id": "fdrG2Ik_2cIQ",
        "colab": {
          "base_uri": "https://localhost:8080/"
        },
        "outputId": "d085d919-2e35-434e-a00a-1e282f06c22c"
      },
      "execution_count": 18,
      "outputs": [
        {
          "output_type": "stream",
          "name": "stdout",
          "text": [
            "Accuarcy of this LG model is: \n",
            "\n",
            " 90.9090909090909\n",
            "\n",
            " Classification Report for LG: \n",
            "               precision    recall  f1-score   support\n",
            "\n",
            "           0       0.94      0.89      0.91       156\n",
            "           1       0.88      0.93      0.90       130\n",
            "\n",
            "    accuracy                           0.91       286\n",
            "   macro avg       0.91      0.91      0.91       286\n",
            "weighted avg       0.91      0.91      0.91       286\n",
            "\n",
            "Accuarcy of this NB-Bernoulli model is: \n",
            "\n",
            " 96.5034965034965\n",
            "\n",
            " Classification Report for NB: \n",
            "               precision    recall  f1-score   support\n",
            "\n",
            "           0       0.95      0.99      0.97       142\n",
            "           1       0.99      0.94      0.96       144\n",
            "\n",
            "    accuracy                           0.97       286\n",
            "   macro avg       0.97      0.97      0.97       286\n",
            "weighted avg       0.97      0.97      0.97       286\n",
            "\n",
            "Accuarcy of this DT model is: \n",
            "\n",
            " 94.4055944055944\n",
            "\n",
            " Classification Report for DT: \n",
            "               precision    recall  f1-score   support\n",
            "\n",
            "           0       0.93      0.96      0.94       142\n",
            "           1       0.96      0.92      0.94       144\n",
            "\n",
            "    accuracy                           0.94       286\n",
            "   macro avg       0.94      0.94      0.94       286\n",
            "weighted avg       0.94      0.94      0.94       286\n",
            "\n"
          ]
        }
      ]
    },
    {
      "cell_type": "code",
      "source": [
        "from sklearn.model_selection import GridSearchCV\n",
        "\n",
        "# define the hyperparameters you want to test\n",
        "hyperparameters = {\n",
        "    'penalty': ['l1', 'l2'],\n",
        "    'C': [0.1, 1, 10]\n",
        "}\n",
        "\n",
        "# perform a grid search to find the best hyperparameters\n",
        "log_reg_tuned = GridSearchCV(log_reg_model, hyperparameters, cv=5)\n",
        "log_reg_tuned.fit(X_train, Y_train)\n",
        "\n",
        "# use the best hyperparameters to predict on the test set\n",
        "log_reg_pred_tuned = log_reg_tuned.predict(X_test)\n",
        "#Accuracy using Logistic Regression \n",
        "log_reg_accuracy = metrics.accuracy_score(log_reg_pred_tuned, Y_test)\n",
        "print(\"Accuarcy of this LG model is: \\n\\n\", log_reg_accuracy*100)\n",
        "#the classification report for precision, recall, F1 Score and support metrics: case of Logistic Regression\n",
        "print('\\n Classification Report for LG: \\n', metrics.classification_report(log_reg_pred_tuned, Y_test))"
      ],
      "metadata": {
        "colab": {
          "base_uri": "https://localhost:8080/"
        },
        "id": "lLKNeFM823MO",
        "outputId": "23e3dae5-2099-4fc8-97ad-47d704651c1e"
      },
      "execution_count": 19,
      "outputs": [
        {
          "output_type": "stream",
          "name": "stderr",
          "text": [
            "/usr/local/lib/python3.8/dist-packages/sklearn/linear_model/_logistic.py:814: ConvergenceWarning: lbfgs failed to converge (status=1):\n",
            "STOP: TOTAL NO. of ITERATIONS REACHED LIMIT.\n",
            "\n",
            "Increase the number of iterations (max_iter) or scale the data as shown in:\n",
            "    https://scikit-learn.org/stable/modules/preprocessing.html\n",
            "Please also refer to the documentation for alternative solver options:\n",
            "    https://scikit-learn.org/stable/modules/linear_model.html#logistic-regression\n",
            "  n_iter_i = _check_optimize_result(\n",
            "/usr/local/lib/python3.8/dist-packages/sklearn/linear_model/_logistic.py:814: ConvergenceWarning: lbfgs failed to converge (status=1):\n",
            "STOP: TOTAL NO. of ITERATIONS REACHED LIMIT.\n",
            "\n",
            "Increase the number of iterations (max_iter) or scale the data as shown in:\n",
            "    https://scikit-learn.org/stable/modules/preprocessing.html\n",
            "Please also refer to the documentation for alternative solver options:\n",
            "    https://scikit-learn.org/stable/modules/linear_model.html#logistic-regression\n",
            "  n_iter_i = _check_optimize_result(\n",
            "/usr/local/lib/python3.8/dist-packages/sklearn/linear_model/_logistic.py:814: ConvergenceWarning: lbfgs failed to converge (status=1):\n",
            "STOP: TOTAL NO. of ITERATIONS REACHED LIMIT.\n",
            "\n",
            "Increase the number of iterations (max_iter) or scale the data as shown in:\n",
            "    https://scikit-learn.org/stable/modules/preprocessing.html\n",
            "Please also refer to the documentation for alternative solver options:\n",
            "    https://scikit-learn.org/stable/modules/linear_model.html#logistic-regression\n",
            "  n_iter_i = _check_optimize_result(\n",
            "/usr/local/lib/python3.8/dist-packages/sklearn/linear_model/_logistic.py:814: ConvergenceWarning: lbfgs failed to converge (status=1):\n",
            "STOP: TOTAL NO. of ITERATIONS REACHED LIMIT.\n",
            "\n",
            "Increase the number of iterations (max_iter) or scale the data as shown in:\n",
            "    https://scikit-learn.org/stable/modules/preprocessing.html\n",
            "Please also refer to the documentation for alternative solver options:\n",
            "    https://scikit-learn.org/stable/modules/linear_model.html#logistic-regression\n",
            "  n_iter_i = _check_optimize_result(\n",
            "/usr/local/lib/python3.8/dist-packages/sklearn/linear_model/_logistic.py:814: ConvergenceWarning: lbfgs failed to converge (status=1):\n",
            "STOP: TOTAL NO. of ITERATIONS REACHED LIMIT.\n",
            "\n",
            "Increase the number of iterations (max_iter) or scale the data as shown in:\n",
            "    https://scikit-learn.org/stable/modules/preprocessing.html\n",
            "Please also refer to the documentation for alternative solver options:\n",
            "    https://scikit-learn.org/stable/modules/linear_model.html#logistic-regression\n",
            "  n_iter_i = _check_optimize_result(\n",
            "/usr/local/lib/python3.8/dist-packages/sklearn/linear_model/_logistic.py:814: ConvergenceWarning: lbfgs failed to converge (status=1):\n",
            "STOP: TOTAL NO. of ITERATIONS REACHED LIMIT.\n",
            "\n",
            "Increase the number of iterations (max_iter) or scale the data as shown in:\n",
            "    https://scikit-learn.org/stable/modules/preprocessing.html\n",
            "Please also refer to the documentation for alternative solver options:\n",
            "    https://scikit-learn.org/stable/modules/linear_model.html#logistic-regression\n",
            "  n_iter_i = _check_optimize_result(\n"
          ]
        },
        {
          "output_type": "stream",
          "name": "stdout",
          "text": [
            "Accuarcy of this LG model is: \n",
            "\n",
            " 90.9090909090909\n",
            "\n",
            " Classification Report for LG: \n",
            "               precision    recall  f1-score   support\n",
            "\n",
            "           0       0.94      0.89      0.91       156\n",
            "           1       0.88      0.93      0.90       130\n",
            "\n",
            "    accuracy                           0.91       286\n",
            "   macro avg       0.91      0.91      0.91       286\n",
            "weighted avg       0.91      0.91      0.91       286\n",
            "\n"
          ]
        },
        {
          "output_type": "stream",
          "name": "stderr",
          "text": [
            "/usr/local/lib/python3.8/dist-packages/sklearn/model_selection/_validation.py:372: FitFailedWarning: \n",
            "15 fits failed out of a total of 30.\n",
            "The score on these train-test partitions for these parameters will be set to nan.\n",
            "If these failures are not expected, you can try to debug them by setting error_score='raise'.\n",
            "\n",
            "Below are more details about the failures:\n",
            "--------------------------------------------------------------------------------\n",
            "15 fits failed with the following error:\n",
            "Traceback (most recent call last):\n",
            "  File \"/usr/local/lib/python3.8/dist-packages/sklearn/model_selection/_validation.py\", line 680, in _fit_and_score\n",
            "    estimator.fit(X_train, y_train, **fit_params)\n",
            "  File \"/usr/local/lib/python3.8/dist-packages/sklearn/linear_model/_logistic.py\", line 1461, in fit\n",
            "    solver = _check_solver(self.solver, self.penalty, self.dual)\n",
            "  File \"/usr/local/lib/python3.8/dist-packages/sklearn/linear_model/_logistic.py\", line 447, in _check_solver\n",
            "    raise ValueError(\n",
            "ValueError: Solver lbfgs supports only 'l2' or 'none' penalties, got l1 penalty.\n",
            "\n",
            "  warnings.warn(some_fits_failed_message, FitFailedWarning)\n",
            "/usr/local/lib/python3.8/dist-packages/sklearn/model_selection/_search.py:969: UserWarning: One or more of the test scores are non-finite: [       nan 0.90556615        nan 0.90556615        nan 0.90556615]\n",
            "  warnings.warn(\n"
          ]
        }
      ]
    },
    {
      "cell_type": "code",
      "source": [
        "from sklearn.model_selection import RandomizedSearchCV\n",
        "from scipy.stats import uniform\n",
        "\n",
        "# define the hyperparameters you want to test\n",
        "hyperparameters = {\n",
        "    'var_smoothing': uniform(loc=0, scale=0.1)\n",
        "}\n",
        "\n",
        "# perform a randomized search to find the best hyperparameters\n",
        "nav_bayes_tuned = RandomizedSearchCV(nav_bayes_model, hyperparameters, n_iter=100, cv=5)\n",
        "nav_bayes_tuned.fit(X_train, Y_train)\n",
        "\n",
        "# use the best hyperparameters to predict on the test set\n",
        "nav_bayes_pred_tuned = nav_bayes_tuned.predict(X_test)\n",
        "#Accuracy using Naive Bayes-Bernoulli \n",
        "nav_bayes_accuracy = metrics.accuracy_score(nav_bayes_pred_tuned, Y_test)\n",
        "print(\"Accuarcy of this NB-Bernoulli model is: \\n\\n\", nav_bayes_accuracy*100)\n",
        "#the classification report for precision, recall, F1 Score and support metrics: case of Naive Bayes\n",
        "print('\\n Classification Report for NB: \\n', metrics.classification_report(nav_bayes_pred_tuned, Y_test))\n"
      ],
      "metadata": {
        "colab": {
          "base_uri": "https://localhost:8080/"
        },
        "id": "KZnnWDXs26qO",
        "outputId": "2a8f4296-37e9-4b57-be9b-51dd0fe6533e"
      },
      "execution_count": 20,
      "outputs": [
        {
          "output_type": "stream",
          "name": "stdout",
          "text": [
            "Accuarcy of this NB-Bernoulli model is: \n",
            "\n",
            " 70.97902097902097\n",
            "\n",
            " Classification Report for NB: \n",
            "               precision    recall  f1-score   support\n",
            "\n",
            "           0       0.84      0.68      0.75       183\n",
            "           1       0.57      0.77      0.66       103\n",
            "\n",
            "    accuracy                           0.71       286\n",
            "   macro avg       0.71      0.72      0.70       286\n",
            "weighted avg       0.74      0.71      0.72       286\n",
            "\n"
          ]
        }
      ]
    },
    {
      "cell_type": "code",
      "source": [
        "from sklearn.model_selection import GridSearchCV\n",
        "\n",
        "# define the hyperparameters you want to test\n",
        "hyperparameters = {\n",
        "    'max_depth': [3, 5, 7],\n",
        "    'min_samples_split': [2, 5, 10],\n",
        "    'min_samples_leaf': [1, 2, 4]\n",
        "}\n",
        "\n",
        "# perform a grid search to find the best hyperparameters\n",
        "dec_tree_tuned = GridSearchCV(dec_tree_model, hyperparameters, cv=5)\n",
        "dec_tree_tuned.fit(X_train, Y_train)\n",
        "\n",
        "# use the best hyperparameters to predict on the test set\n",
        "dec_tree_pred_tuned = dec_tree_tuned.predict(X_test)\n",
        "#Accuracy using Decison Tree\n",
        "dec_tree_accuracy = metrics.accuracy_score(dec_tree_pred_tuned, Y_test)\n",
        "print(\"Accuarcy of this DT model is: \\n\\n\", dec_tree_accuracy*100)\n",
        "#the classification report for precision, recall, F1 Score and support metrics: case of Decision Tree\n",
        "print('\\n Classification Report for DT: \\n', metrics.classification_report(dec_tree_pred_tuned, Y_test))\n"
      ],
      "metadata": {
        "colab": {
          "base_uri": "https://localhost:8080/"
        },
        "id": "poNMegeK28Vo",
        "outputId": "8e5eafd3-66a8-4452-9e32-9e5e1669a6a7"
      },
      "execution_count": 21,
      "outputs": [
        {
          "output_type": "stream",
          "name": "stdout",
          "text": [
            "Accuarcy of this DT model is: \n",
            "\n",
            " 95.1048951048951\n",
            "\n",
            " Classification Report for DT: \n",
            "               precision    recall  f1-score   support\n",
            "\n",
            "           0       0.94      0.97      0.95       144\n",
            "           1       0.96      0.94      0.95       142\n",
            "\n",
            "    accuracy                           0.95       286\n",
            "   macro avg       0.95      0.95      0.95       286\n",
            "weighted avg       0.95      0.95      0.95       286\n",
            "\n"
          ]
        }
      ]
    },
    {
      "cell_type": "markdown",
      "source": [
        "[2]: https://pandas.pydata.org/docs/getting_started/install.html \n",
        "\n",
        "[3]: https://numpy.org/install/ \n",
        "\n",
        "\n",
        "[4]: https://matplotlib.org/stable/users/installing/index.html \n",
        "\n",
        "\n",
        "[5]: https://seaborn.pydata.org/installing.html \n",
        "\n",
        "\n",
        "[6]: https://scikit-learn.org/stable/install.html \n",
        "\n",
        "\n",
        "[7]: https://github.com/PacktPublishing/Hands-On-Data-Science-and-Python-Machine-Learning/blob/master/DecisionTree.ipynb \n",
        "\n",
        "\n",
        "[8]: https://github.com/PacktPublishing/Hands-On-Data-Science-and-Python-Machine-Learning/blob/master/MeanMedianExercise.ipynb \n",
        "\n",
        "[9]: https://github.com/PacktPublishing/Hands-On-Data-Science-and-Python-Machine-Learning/blob/master/Python101.ipynb \n",
        "\n",
        "\n",
        "[10]: https://github.com/PacktPublishing/Hands-On-Data-Science-and-Python-Machine-Learning/blob/master/TrainTest.ipynb \n",
        "\n",
        "\n",
        "\n",
        "[11]: https://github.com/PacktPublishing/Hands-On-Data-Science-and-Python-Machine-Learning/blob/master/MatPlotLib.ipynb \n",
        "\n",
        "\n",
        "\n",
        "[12]: https://github.com/PacktPublishing/Hands-On-Data-Science-and-Python-Machine-Learning/blob/master/Outliers.ipynb \n",
        "\n",
        "\n",
        "[13]: https://github.com/asavinov/machine-learning-and-data-processing#analysis-of-different-types-of-data \n",
        "\n",
        "\n",
        "[14]: https://github.com/asavinov/machine-learning-and-data-processing#libraries-utilities-tools \n",
        "\n",
        "\n",
        "[15]: https://github.com/stefmolin/Hands-On-Data-Analysis-with-Pandas-2nd-edition "
      ],
      "metadata": {
        "id": "LyxawoAn4u_O"
      }
    }
  ]
}