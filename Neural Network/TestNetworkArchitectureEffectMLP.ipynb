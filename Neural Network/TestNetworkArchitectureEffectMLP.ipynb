{
  "nbformat": 4,
  "nbformat_minor": 0,
  "metadata": {
    "colab": {
      "provenance": []
    },
    "kernelspec": {
      "name": "python3",
      "display_name": "Python 3"
    },
    "language_info": {
      "name": "python"
    },
    "accelerator": "GPU",
    "gpuClass": "standard"
  },
  "cells": [
    {
      "cell_type": "code",
      "source": [
        "import pandas as pd\n",
        "import matplotlib\n",
        "from matplotlib import pyplot as plt\n",
        "import seaborn as sns\n",
        "import tensorflow as tf\n",
        "import tensorflow_datasets as tfds\n",
        "import sklearn.metrics as metrics\n",
        "matplotlib.rcParams['figure.figsize'] = [9, 6]"
      ],
      "metadata": {
        "id": "26QHkhxXUISy"
      },
      "execution_count": 49,
      "outputs": []
    },
    {
      "cell_type": "markdown",
      "source": [
        "4. Importing the dataset: \n",
        "\n"
      ],
      "metadata": {
        "id": "rtiBFSK4ZXIG"
      }
    },
    {
      "cell_type": "code",
      "source": [
        "# Load the MNIST dataset\n",
        "(train_images, train_labels), (test_images, test_labels) = tf.keras.datasets.mnist.load_data()\n",
        "\n",
        "# Preprocess the data\n",
        "train_images = train_images.reshape(train_images.shape[0], 28, 28, 1).astype('float32') / 255\n",
        "test_images = test_images.reshape(test_images.shape[0], 28, 28, 1).astype('float32') / 255\n",
        "train_labels = tf.keras.utils.to_categorical(train_labels, 10)\n",
        "test_labels = tf.keras.utils.to_categorical(test_labels, 10)\n",
        "\n",
        "# Define the model architecture\n",
        "model = tf.keras.Sequential([\n",
        "    # Convolutional layer with 32 filters, a 3x3 kernel, and ReLU activation\n",
        "    tf.keras.layers.Conv2D(32, (3, 3), activation='relu', input_shape=(28, 28, 1)),\n",
        "    # Max pooling layer with a 2x2 pool size\n",
        "    tf.keras.layers.MaxPooling2D((2, 2)),\n",
        "    # Flatten the output from the convolutional layer to a 1D tensor\n",
        "    tf.keras.layers.Flatten(),\n",
        "    # Fully connected layer with 128 units and ReLU activation\n",
        "    tf.keras.layers.Dense(128, activation='relu'),\n",
        "    # Output layer with 10 units (one for each digit) and softmax activation\n",
        "    tf.keras.layers.Dense(10, activation='softmax')\n",
        "])\n",
        "\n",
        "# Compile the model with categorical cross-entropy loss and Adam optimizer\n",
        "model.compile(loss='categorical_crossentropy', optimizer='adam', metrics=['accuracy'])\n",
        "\n",
        "# Train the model for 5 epochs\n",
        "model.fit(train_images, train_labels, epochs=5, validation_split=0.1)\n",
        "\n",
        "# Evaluate the model on the test set\n",
        "test_loss, test_acc = model.evaluate(test_images, test_labels)\n",
        "print(f'Test accuracy: {test_acc}')"
      ],
      "metadata": {
        "colab": {
          "base_uri": "https://localhost:8080/"
        },
        "id": "qGQt1nKC7pWy",
        "outputId": "6e7f429b-cf93-44eb-e4e0-244a773cde64"
      },
      "execution_count": 52,
      "outputs": [
        {
          "output_type": "stream",
          "name": "stdout",
          "text": [
            "Downloading data from https://storage.googleapis.com/tensorflow/tf-keras-datasets/mnist.npz\n",
            "11490434/11490434 [==============================] - 2s 0us/step\n",
            "Epoch 1/5\n",
            "1688/1688 [==============================] - 16s 6ms/step - loss: 0.1601 - accuracy: 0.9524 - val_loss: 0.0681 - val_accuracy: 0.9802\n",
            "Epoch 2/5\n",
            "1688/1688 [==============================] - 10s 6ms/step - loss: 0.0566 - accuracy: 0.9824 - val_loss: 0.0514 - val_accuracy: 0.9870\n",
            "Epoch 3/5\n",
            "1688/1688 [==============================] - 8s 5ms/step - loss: 0.0355 - accuracy: 0.9888 - val_loss: 0.0507 - val_accuracy: 0.9857\n",
            "Epoch 4/5\n",
            "1688/1688 [==============================] - 7s 4ms/step - loss: 0.0235 - accuracy: 0.9924 - val_loss: 0.0534 - val_accuracy: 0.9875\n",
            "Epoch 5/5\n",
            "1688/1688 [==============================] - 7s 4ms/step - loss: 0.0155 - accuracy: 0.9950 - val_loss: 0.0582 - val_accuracy: 0.9872\n",
            "313/313 [==============================] - 1s 3ms/step - loss: 0.0444 - accuracy: 0.9868\n",
            "Test accuracy: 0.9868000149726868\n"
          ]
        }
      ]
    }
  ]
}