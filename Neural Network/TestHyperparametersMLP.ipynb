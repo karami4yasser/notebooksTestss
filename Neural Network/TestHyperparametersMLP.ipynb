{
  "nbformat": 4,
  "nbformat_minor": 0,
  "metadata": {
    "colab": {
      "provenance": []
    },
    "kernelspec": {
      "name": "python3",
      "display_name": "Python 3"
    },
    "language_info": {
      "name": "python"
    },
    "widgets": {
      "application/vnd.jupyter.widget-state+json": {
        "eac2e01c7485486591f833d94e3f4862": {
          "model_module": "@jupyter-widgets/controls",
          "model_name": "HBoxModel",
          "model_module_version": "1.5.0",
          "state": {
            "_dom_classes": [],
            "_model_module": "@jupyter-widgets/controls",
            "_model_module_version": "1.5.0",
            "_model_name": "HBoxModel",
            "_view_count": null,
            "_view_module": "@jupyter-widgets/controls",
            "_view_module_version": "1.5.0",
            "_view_name": "HBoxView",
            "box_style": "",
            "children": [
              "IPY_MODEL_e8a18482483f43fca9a1ee8264fd16d4",
              "IPY_MODEL_bc1ab017e48f42d4856e50a2b3438173",
              "IPY_MODEL_cd28ab35c6f24498adce81794c86fa4f"
            ],
            "layout": "IPY_MODEL_99ffc37501bc4fbd9634310d10720faa"
          }
        },
        "e8a18482483f43fca9a1ee8264fd16d4": {
          "model_module": "@jupyter-widgets/controls",
          "model_name": "HTMLModel",
          "model_module_version": "1.5.0",
          "state": {
            "_dom_classes": [],
            "_model_module": "@jupyter-widgets/controls",
            "_model_module_version": "1.5.0",
            "_model_name": "HTMLModel",
            "_view_count": null,
            "_view_module": "@jupyter-widgets/controls",
            "_view_module_version": "1.5.0",
            "_view_name": "HTMLView",
            "description": "",
            "description_tooltip": null,
            "layout": "IPY_MODEL_35c17e86dd4b4e5c999ecee8a87f2d61",
            "placeholder": "​",
            "style": "IPY_MODEL_2b65f17b4c054ec6b416a2f1c22ee078",
            "value": "Dl Completed...: 100%"
          }
        },
        "bc1ab017e48f42d4856e50a2b3438173": {
          "model_module": "@jupyter-widgets/controls",
          "model_name": "FloatProgressModel",
          "model_module_version": "1.5.0",
          "state": {
            "_dom_classes": [],
            "_model_module": "@jupyter-widgets/controls",
            "_model_module_version": "1.5.0",
            "_model_name": "FloatProgressModel",
            "_view_count": null,
            "_view_module": "@jupyter-widgets/controls",
            "_view_module_version": "1.5.0",
            "_view_name": "ProgressView",
            "bar_style": "success",
            "description": "",
            "description_tooltip": null,
            "layout": "IPY_MODEL_0f8cae96e54348b6af1366c7379229ad",
            "max": 5,
            "min": 0,
            "orientation": "horizontal",
            "style": "IPY_MODEL_85d819c7ae8c4cc1a1dd884b273d3b03",
            "value": 5
          }
        },
        "cd28ab35c6f24498adce81794c86fa4f": {
          "model_module": "@jupyter-widgets/controls",
          "model_name": "HTMLModel",
          "model_module_version": "1.5.0",
          "state": {
            "_dom_classes": [],
            "_model_module": "@jupyter-widgets/controls",
            "_model_module_version": "1.5.0",
            "_model_name": "HTMLModel",
            "_view_count": null,
            "_view_module": "@jupyter-widgets/controls",
            "_view_module_version": "1.5.0",
            "_view_name": "HTMLView",
            "description": "",
            "description_tooltip": null,
            "layout": "IPY_MODEL_15eb7c9ad6344279a9a65306974051ab",
            "placeholder": "​",
            "style": "IPY_MODEL_eaa76c5da669418f84eb7b865b6abc54",
            "value": " 5/5 [00:00&lt;00:00, 12.65 file/s]"
          }
        },
        "99ffc37501bc4fbd9634310d10720faa": {
          "model_module": "@jupyter-widgets/base",
          "model_name": "LayoutModel",
          "model_module_version": "1.2.0",
          "state": {
            "_model_module": "@jupyter-widgets/base",
            "_model_module_version": "1.2.0",
            "_model_name": "LayoutModel",
            "_view_count": null,
            "_view_module": "@jupyter-widgets/base",
            "_view_module_version": "1.2.0",
            "_view_name": "LayoutView",
            "align_content": null,
            "align_items": null,
            "align_self": null,
            "border": null,
            "bottom": null,
            "display": null,
            "flex": null,
            "flex_flow": null,
            "grid_area": null,
            "grid_auto_columns": null,
            "grid_auto_flow": null,
            "grid_auto_rows": null,
            "grid_column": null,
            "grid_gap": null,
            "grid_row": null,
            "grid_template_areas": null,
            "grid_template_columns": null,
            "grid_template_rows": null,
            "height": null,
            "justify_content": null,
            "justify_items": null,
            "left": null,
            "margin": null,
            "max_height": null,
            "max_width": null,
            "min_height": null,
            "min_width": null,
            "object_fit": null,
            "object_position": null,
            "order": null,
            "overflow": null,
            "overflow_x": null,
            "overflow_y": null,
            "padding": null,
            "right": null,
            "top": null,
            "visibility": null,
            "width": null
          }
        },
        "35c17e86dd4b4e5c999ecee8a87f2d61": {
          "model_module": "@jupyter-widgets/base",
          "model_name": "LayoutModel",
          "model_module_version": "1.2.0",
          "state": {
            "_model_module": "@jupyter-widgets/base",
            "_model_module_version": "1.2.0",
            "_model_name": "LayoutModel",
            "_view_count": null,
            "_view_module": "@jupyter-widgets/base",
            "_view_module_version": "1.2.0",
            "_view_name": "LayoutView",
            "align_content": null,
            "align_items": null,
            "align_self": null,
            "border": null,
            "bottom": null,
            "display": null,
            "flex": null,
            "flex_flow": null,
            "grid_area": null,
            "grid_auto_columns": null,
            "grid_auto_flow": null,
            "grid_auto_rows": null,
            "grid_column": null,
            "grid_gap": null,
            "grid_row": null,
            "grid_template_areas": null,
            "grid_template_columns": null,
            "grid_template_rows": null,
            "height": null,
            "justify_content": null,
            "justify_items": null,
            "left": null,
            "margin": null,
            "max_height": null,
            "max_width": null,
            "min_height": null,
            "min_width": null,
            "object_fit": null,
            "object_position": null,
            "order": null,
            "overflow": null,
            "overflow_x": null,
            "overflow_y": null,
            "padding": null,
            "right": null,
            "top": null,
            "visibility": null,
            "width": null
          }
        },
        "2b65f17b4c054ec6b416a2f1c22ee078": {
          "model_module": "@jupyter-widgets/controls",
          "model_name": "DescriptionStyleModel",
          "model_module_version": "1.5.0",
          "state": {
            "_model_module": "@jupyter-widgets/controls",
            "_model_module_version": "1.5.0",
            "_model_name": "DescriptionStyleModel",
            "_view_count": null,
            "_view_module": "@jupyter-widgets/base",
            "_view_module_version": "1.2.0",
            "_view_name": "StyleView",
            "description_width": ""
          }
        },
        "0f8cae96e54348b6af1366c7379229ad": {
          "model_module": "@jupyter-widgets/base",
          "model_name": "LayoutModel",
          "model_module_version": "1.2.0",
          "state": {
            "_model_module": "@jupyter-widgets/base",
            "_model_module_version": "1.2.0",
            "_model_name": "LayoutModel",
            "_view_count": null,
            "_view_module": "@jupyter-widgets/base",
            "_view_module_version": "1.2.0",
            "_view_name": "LayoutView",
            "align_content": null,
            "align_items": null,
            "align_self": null,
            "border": null,
            "bottom": null,
            "display": null,
            "flex": null,
            "flex_flow": null,
            "grid_area": null,
            "grid_auto_columns": null,
            "grid_auto_flow": null,
            "grid_auto_rows": null,
            "grid_column": null,
            "grid_gap": null,
            "grid_row": null,
            "grid_template_areas": null,
            "grid_template_columns": null,
            "grid_template_rows": null,
            "height": null,
            "justify_content": null,
            "justify_items": null,
            "left": null,
            "margin": null,
            "max_height": null,
            "max_width": null,
            "min_height": null,
            "min_width": null,
            "object_fit": null,
            "object_position": null,
            "order": null,
            "overflow": null,
            "overflow_x": null,
            "overflow_y": null,
            "padding": null,
            "right": null,
            "top": null,
            "visibility": null,
            "width": null
          }
        },
        "85d819c7ae8c4cc1a1dd884b273d3b03": {
          "model_module": "@jupyter-widgets/controls",
          "model_name": "ProgressStyleModel",
          "model_module_version": "1.5.0",
          "state": {
            "_model_module": "@jupyter-widgets/controls",
            "_model_module_version": "1.5.0",
            "_model_name": "ProgressStyleModel",
            "_view_count": null,
            "_view_module": "@jupyter-widgets/base",
            "_view_module_version": "1.2.0",
            "_view_name": "StyleView",
            "bar_color": null,
            "description_width": ""
          }
        },
        "15eb7c9ad6344279a9a65306974051ab": {
          "model_module": "@jupyter-widgets/base",
          "model_name": "LayoutModel",
          "model_module_version": "1.2.0",
          "state": {
            "_model_module": "@jupyter-widgets/base",
            "_model_module_version": "1.2.0",
            "_model_name": "LayoutModel",
            "_view_count": null,
            "_view_module": "@jupyter-widgets/base",
            "_view_module_version": "1.2.0",
            "_view_name": "LayoutView",
            "align_content": null,
            "align_items": null,
            "align_self": null,
            "border": null,
            "bottom": null,
            "display": null,
            "flex": null,
            "flex_flow": null,
            "grid_area": null,
            "grid_auto_columns": null,
            "grid_auto_flow": null,
            "grid_auto_rows": null,
            "grid_column": null,
            "grid_gap": null,
            "grid_row": null,
            "grid_template_areas": null,
            "grid_template_columns": null,
            "grid_template_rows": null,
            "height": null,
            "justify_content": null,
            "justify_items": null,
            "left": null,
            "margin": null,
            "max_height": null,
            "max_width": null,
            "min_height": null,
            "min_width": null,
            "object_fit": null,
            "object_position": null,
            "order": null,
            "overflow": null,
            "overflow_x": null,
            "overflow_y": null,
            "padding": null,
            "right": null,
            "top": null,
            "visibility": null,
            "width": null
          }
        },
        "eaa76c5da669418f84eb7b865b6abc54": {
          "model_module": "@jupyter-widgets/controls",
          "model_name": "DescriptionStyleModel",
          "model_module_version": "1.5.0",
          "state": {
            "_model_module": "@jupyter-widgets/controls",
            "_model_module_version": "1.5.0",
            "_model_name": "DescriptionStyleModel",
            "_view_count": null,
            "_view_module": "@jupyter-widgets/base",
            "_view_module_version": "1.2.0",
            "_view_name": "StyleView",
            "description_width": ""
          }
        }
      }
    },
    "accelerator": "GPU",
    "gpuClass": "standard"
  },
  "cells": [
    {
      "cell_type": "code",
      "source": [
        "import pandas as pd\n",
        "import matplotlib\n",
        "from matplotlib import pyplot as plt\n",
        "import seaborn as sns\n",
        "import tensorflow as tf\n",
        "import tensorflow_datasets as tfds\n",
        "import sklearn.metrics as metrics\n",
        "matplotlib.rcParams['figure.figsize'] = [9, 6]"
      ],
      "metadata": {
        "id": "26QHkhxXUISy"
      },
      "execution_count": 2,
      "outputs": []
    },
    {
      "cell_type": "markdown",
      "source": [
        "4. Importing the dataset: \n",
        "\n"
      ],
      "metadata": {
        "id": "rtiBFSK4ZXIG"
      }
    },
    {
      "cell_type": "code",
      "source": [
        "#loadig the MNIST dataset using the tensorflow_datasets.load function which takes 14 arguments: \n",
        "\"\"\"\n",
        "tfds.load(\n",
        "    name: str,\n",
        "    *,\n",
        "    split: Optional[Tree[splits_lib.SplitArg]] = None,\n",
        "    data_dir: Union[None, str, os.PathLike] = None,\n",
        "    batch_size: tfds.typing.Dim = None,\n",
        "    shuffle_files: bool = False,\n",
        "    download: bool = True,\n",
        "    as_supervised: bool = False,\n",
        "    decoders: Optional[TreeDict[decode.partial_decode.DecoderArg]] = None,\n",
        "    read_config: Optional[tfds.ReadConfig] = None,\n",
        "    with_info: bool = False,\n",
        "    builder_kwargs: Optional[Dict[str, Any]] = None,\n",
        "    download_and_prepare_kwargs: Optional[Dict[str, Any]] = None,\n",
        "    as_dataset_kwargs: Optional[Dict[str, Any]] = None,\n",
        "    try_gcs: bool = False\n",
        ")\n",
        "\n",
        "\n",
        "\"\"\"\n",
        "train_data, val_data, test_data = tfds.load(\"mnist\", \n",
        "                                            split=['train[10000:]', 'train[0:10000]', 'test'],\n",
        "                                            batch_size=128, as_supervised=True)"
      ],
      "metadata": {
        "id": "5Qla1d5mUXl9",
        "outputId": "08e7ee86-fc54-443f-cae7-14b789c60d46",
        "colab": {
          "base_uri": "https://localhost:8080/",
          "height": 84,
          "referenced_widgets": [
            "eac2e01c7485486591f833d94e3f4862",
            "e8a18482483f43fca9a1ee8264fd16d4",
            "bc1ab017e48f42d4856e50a2b3438173",
            "cd28ab35c6f24498adce81794c86fa4f",
            "99ffc37501bc4fbd9634310d10720faa",
            "35c17e86dd4b4e5c999ecee8a87f2d61",
            "2b65f17b4c054ec6b416a2f1c22ee078",
            "0f8cae96e54348b6af1366c7379229ad",
            "85d819c7ae8c4cc1a1dd884b273d3b03",
            "15eb7c9ad6344279a9a65306974051ab",
            "eaa76c5da669418f84eb7b865b6abc54"
          ]
        }
      },
      "execution_count": 3,
      "outputs": [
        {
          "output_type": "stream",
          "name": "stdout",
          "text": [
            "Downloading and preparing dataset 11.06 MiB (download: 11.06 MiB, generated: 21.00 MiB, total: 32.06 MiB) to /root/tensorflow_datasets/mnist/3.0.1...\n"
          ]
        },
        {
          "output_type": "display_data",
          "data": {
            "text/plain": [
              "Dl Completed...:   0%|          | 0/5 [00:00<?, ? file/s]"
            ],
            "application/vnd.jupyter.widget-view+json": {
              "version_major": 2,
              "version_minor": 0,
              "model_id": "eac2e01c7485486591f833d94e3f4862"
            }
          },
          "metadata": {}
        },
        {
          "output_type": "stream",
          "name": "stdout",
          "text": [
            "Dataset mnist downloaded and prepared to /root/tensorflow_datasets/mnist/3.0.1. Subsequent calls will reuse this data.\n"
          ]
        }
      ]
    },
    {
      "cell_type": "code",
      "source": [
        "#EXERCISE: \n",
        "#From the above decsription of the arguments of the tensorflow load function, define the remaining parameters and set their values "
      ],
      "metadata": {
        "id": "wiOlJJ54oyX7"
      },
      "execution_count": 4,
      "outputs": []
    },
    {
      "cell_type": "code",
      "source": [
        "#Specification of a variable \"x_Visulaization\" and \"y_Visualization\" \n",
        "x_Visualization, y_Visualization = tfds.load(\"mnist\", split=['train[:1500]'], batch_size=-1, as_supervised=True)[0]\n",
        "# the \"tf.squeeze\" function is a prebuild function in tensorflow that removes dimensions of size 1 from the shape of a tensor.\n",
        "x_Visualization = tf.squeeze(x_Visualization, axis=3)\n",
        "\n",
        "#Plotting the tensor \n",
        "for i in range(9):\n",
        "    plt.subplot(3,3,1+i)\n",
        "    plt.axis('off')\n",
        "    plt.imshow(x_Visualization[i], cmap='gray')\n",
        "    plt.title(f\"True Label: {y_Visualization[i]}\")\n",
        "    #To adjust the subplot layout parameters (the specific parameter hspace: The height of the padding between subplots, as a fraction of the average Axes height.)\n",
        "    plt.subplots_adjust(hspace=.5)"
      ],
      "metadata": {
        "colab": {
          "base_uri": "https://localhost:8080/",
          "height": 373
        },
        "id": "8K9VMh7kUjbi",
        "outputId": "b7b5597f-1b44-4731-d794-ac599450b515"
      },
      "execution_count": 5,
      "outputs": [
        {
          "output_type": "display_data",
          "data": {
            "text/plain": [
              "<Figure size 648x432 with 9 Axes>"
            ],
            "image/png": "[encoded data removed]"
          },
          "metadata": {
            "needs_background": "light"
          }
        }
      ]
    },
    {
      "cell_type": "code",
      "source": [
        "#EXERCISE: \n",
        "#Using the same tensors (x_Visualization and y_Visualization) display 10 different versions of the number 3"
      ],
      "metadata": {
        "id": "bJnNUd30pABr"
      },
      "execution_count": 6,
      "outputs": []
    },
    {
      "cell_type": "code",
      "source": [
        "#Counting the occurence of a digit in the dataset. \n",
        "sns.countplot(y_Visualization.numpy());\n",
        "plt.xlabel('Digits')\n",
        "plt.title(\"MNIST Digit Distribution\");"
      ],
      "metadata": {
        "colab": {
          "base_uri": "https://localhost:8080/",
          "height": 459
        },
        "id": "7Bf7gW7xU_6S",
        "outputId": "f42d93cd-7cfb-42ce-8acb-34c73ffd7ca1"
      },
      "execution_count": 7,
      "outputs": [
        {
          "output_type": "stream",
          "name": "stderr",
          "text": [
            "/usr/local/lib/python3.8/dist-packages/seaborn/_decorators.py:36: FutureWarning: Pass the following variable as a keyword arg: x. From version 0.12, the only valid positional argument will be `data`, and passing other arguments without an explicit keyword will result in an error or misinterpretation.\n",
            "  warnings.warn(\n"
          ]
        },
        {
          "output_type": "display_data",
          "data": {
            "text/plain": [
              "<Figure size 648x432 with 1 Axes>"
            ],
            "image/png": "[encoded data removed]"
          },
          "metadata": {
            "needs_background": "light"
          }
        }
      ]
    },
    {
      "cell_type": "code",
      "source": [
        "#The defined function below (preprocess) returns the reshaped tensor (that have the same type, in the same order) to the specified shape : [-1, 784]\n",
        "def preprocess(x, y):\n",
        "  # Reshaping the data using reshape function from tensorflow: \n",
        "  x = tf.reshape(x, shape=[-1, 784])\n",
        "  # Rescaling the data\n",
        "  x = x/255\n",
        "  return x, y\n",
        "#Applying the \"preprocess\" to the train_data and val_data\n",
        "train_data, val_data = train_data.map(preprocess), val_data.map(preprocess)"
      ],
      "metadata": {
        "id": "lkRKs1U8VHD6"
      },
      "execution_count": 8,
      "outputs": []
    },
    {
      "cell_type": "code",
      "source": [
        "#linspace generates evenly-spaced values in an interval along a given axis.\n",
        "#-2 being the start in the range, 2 the final in the range and 201 the number of values to generate\n",
        "x = tf.linspace(-2, 2, 201)\n",
        "#Changing the type of the generated values to float32\n",
        "x = tf.cast(x, tf.float32)\n",
        "#Applying ReLu activation function on the generated values \n",
        "plt.plot(x, tf.nn.relu(x));\n",
        "#Display the ReLu function \n",
        "plt.xlabel('x')\n",
        "plt.ylabel('ReLU(x)')\n",
        "plt.title('ReLU activation function');"
      ],
      "metadata": {
        "colab": {
          "base_uri": "https://localhost:8080/",
          "height": 404
        },
        "id": "IIzBGC4IVN-J",
        "outputId": "4fdd2935-be4e-4b78-a72b-02bc625dc274"
      },
      "execution_count": 9,
      "outputs": [
        {
          "output_type": "display_data",
          "data": {
            "text/plain": [
              "<Figure size 648x432 with 1 Axes>"
            ],
            "image/png": "[encoded data removed]"
          },
          "metadata": {
            "needs_background": "light"
          }
        }
      ]
    },
    {
      "cell_type": "code",
      "source": [
        "#linspace generates evenly-spaced values in an interval along a given axis.\n",
        "#-4 being the start in the range, 4 the final in the range and 201 the number of values to generate\n",
        "x = tf.linspace(-4, 4, 201)\n",
        "#Casting the type of the generated values to float32\n",
        "x = tf.cast(x, tf.float32)\n",
        "#Applying the softmax function \n",
        "plt.plot(x, tf.nn.softmax(x, axis=0));\n",
        "#Displaying the function : \n",
        "plt.xlabel('x')\n",
        "plt.ylabel('Softmax(x)')\n",
        "plt.title('Softmax activation function');"
      ],
      "metadata": {
        "colab": {
          "base_uri": "https://localhost:8080/",
          "height": 404
        },
        "id": "NOGO94fHVPlR",
        "outputId": "8d8b939a-3a51-4403-d005-59aaf34953e8"
      },
      "execution_count": 10,
      "outputs": [
        {
          "output_type": "display_data",
          "data": {
            "text/plain": [
              "<Figure size 648x432 with 1 Axes>"
            ],
            "image/png": "[encoded data removed]"
          },
          "metadata": {
            "needs_background": "light"
          }
        }
      ]
    },
    {
      "cell_type": "code",
      "source": [
        "def xavier_init(shape):\n",
        "  # Computes the xavier initialization values for a weight matrix\n",
        "  in_dim, out_dim = shape\n",
        "  xavier_lim = tf.sqrt(6.)/tf.sqrt(tf.cast(in_dim + out_dim, tf.float32))\n",
        "  weight_vals = tf.random.uniform(shape=(in_dim, out_dim), \n",
        "                                  minval=-xavier_lim, maxval=xavier_lim, seed=22)\n",
        "  return weight_vals"
      ],
      "metadata": {
        "id": "lljAwnLvVeLa"
      },
      "execution_count": 11,
      "outputs": []
    },
    {
      "cell_type": "markdown",
      "source": [
        "6.2. Building the model: "
      ],
      "metadata": {
        "id": "_HkHqnf9lzGv"
      }
    },
    {
      "cell_type": "code",
      "source": [
        "#Defining the Dense Layer class : \n",
        "\"\"\"\n",
        "The dense layer is the regular deeply connected neural network layer. \n",
        "Dense layer does the below operation on the input and return the output.\n",
        "\n",
        "**\n",
        "output = activation(dot(input, kernel) + bias)\n",
        "**\n",
        "\n",
        "Where: \n",
        "\n",
        "- input represent the input data\n",
        "\n",
        "- kernel represent the weight data\n",
        "\n",
        "- dot represent numpy dot product of all input and its corresponding weights\n",
        "\n",
        "- bias represent a biased value used in machine learning to optimize the model\n",
        "\n",
        "- activation represent the activation function.\n",
        "\n",
        "\"\"\"\n",
        "class DenseLayer(tf.Module):\n",
        "\n",
        "  def __init__(self, out_dim, weight_init=xavier_init, activation=tf.identity):\n",
        "    # Initialize the dimensions and activation functions\n",
        "    self.out_dim = out_dim\n",
        "    self.weight_init = weight_init\n",
        "    self.activation = activation\n",
        "    self.built = False\n",
        "\n",
        "  def __call__(self, x):\n",
        "    if not self.built:\n",
        "      # Infer the input dimension based on first call\n",
        "      self.in_dim = x.shape[1]\n",
        "      # Initialize the weights and biases using Xavier scheme\n",
        "      self.w = tf.Variable(xavier_init(shape=(self.in_dim, self.out_dim)))\n",
        "      self.b = tf.Variable(tf.zeros(shape=(self.out_dim,)))\n",
        "      self.built = True\n",
        "    # Compute the forward pass\n",
        "    z = tf.add(tf.matmul(x, self.w), self.b)\n",
        "    return self.activation(z)"
      ],
      "metadata": {
        "id": "a6OgmcN4VfS5"
      },
      "execution_count": 12,
      "outputs": []
    },
    {
      "cell_type": "code",
      "source": [
        "#Building the MLP class: \n",
        "class MLP(tf.Module):\n",
        "\n",
        "  def __init__(self, layers):\n",
        "    self.layers = layers\n",
        "   \n",
        "  @tf.function\n",
        "  def __call__(self, x, preds=False): \n",
        "    # Execute the model's layers sequentially\n",
        "    for layer in self.layers:\n",
        "      x = layer(x)\n",
        "    return x"
      ],
      "metadata": {
        "id": "0hS1w4R8Vija"
      },
      "execution_count": 13,
      "outputs": []
    },
    {
      "cell_type": "code",
      "source": [
        "#Defining each layer of our MLP model : \n",
        "#Two hidden layers , the first of size 700 , the second of size 500\n",
        "hidden_layer_1_size = 700\n",
        "hidden_layer_2_size = 500\n",
        "#Defining the output layer of size 10\n",
        "output_size = 10\n",
        "\n",
        "mlp_model = MLP([\n",
        "    DenseLayer(out_dim=hidden_layer_1_size, activation=tf.nn.relu),\n",
        "    DenseLayer(out_dim=hidden_layer_2_size, activation=tf.nn.relu),\n",
        "    DenseLayer(out_dim=output_size)])"
      ],
      "metadata": {
        "id": "hi_0ppvEV0KS"
      },
      "execution_count": 14,
      "outputs": []
    },
    {
      "cell_type": "code",
      "source": [
        "#EXERCISE: \n",
        "#1. Using the same size of hidden layers, apply in three different version of the code block above : \n",
        "\"\"\"\n",
        "1.1. The Sigmoid function \n",
        "1.2. The Softmax function \n",
        "1.3. The Elu function \n",
        "\n",
        "\"\"\"\n",
        "#2. Now change the size of both layers to 900 for the first and 700 for the second and then apply chnages as in (1). "
      ],
      "metadata": {
        "id": "DXT2wKIApLx6",
        "colab": {
          "base_uri": "https://localhost:8080/",
          "height": 35
        },
        "outputId": "756ea257-f3e4-452b-fbff-d255eddeabaf"
      },
      "execution_count": 15,
      "outputs": [
        {
          "output_type": "execute_result",
          "data": {
            "text/plain": [
              "'\\n1.1. The Sigmoid function \\n1.2. The Softmax function \\n1.3. The Elu function \\n\\n'"
            ],
            "application/vnd.google.colaboratory.intrinsic+json": {
              "type": "string"
            }
          },
          "metadata": {},
          "execution_count": 15
        }
      ]
    },
    {
      "cell_type": "markdown",
      "source": [
        "7. Evaluation metrics: \n",
        "\n",
        "\n",
        "7.1. Loss function: A loss function is a function that compares the target and predicted output values; measures how well the neural network models the training data. When training, we aim to minimize this loss between the predicted and target outputs.\n",
        "\n",
        "\n",
        "\n",
        "\n",
        "In the case of classification Loss Functions : given an input, the neural network produces a vector of probabilities of the input belonging to various pre-set categories — can then select the category with the highest probability of belonging; Ex. Binary Cross-Entropy, Categorical Cross-Entropy. \n",
        "\n",
        "\n",
        "Please check the references section for more information."
      ],
      "metadata": {
        "id": "PcOu_sUannAp"
      }
    },
    {
      "cell_type": "code",
      "source": [
        "def cross_entropy_loss(y_pred, y):\n",
        "  # Compute cross entropy loss with a sparse operation\n",
        "  sparse_ce = tf.nn.sparse_softmax_cross_entropy_with_logits(labels=y, logits=y_pred)\n",
        "  return tf.reduce_mean(sparse_ce)\n",
        "\n",
        "def accuracy(y_pred, y):\n",
        "  # Compute accuracy after extracting class predictions\n",
        "  class_preds = tf.argmax(tf.nn.softmax(y_pred), axis=1)\n",
        "  is_equal = tf.equal(y, class_preds)\n",
        "  return tf.reduce_mean(tf.cast(is_equal, tf.float32))"
      ],
      "metadata": {
        "id": "8KE1iKQJWFh5"
      },
      "execution_count": 16,
      "outputs": []
    },
    {
      "cell_type": "code",
      "source": [
        "#EXERCISE: \n",
        "#In the code block, we computed the sparse softmax cross entropy between logits and labels. \n",
        "#In the following, write a code that defines the same function 'cross_entropy_loss' but using 'weighted_cross_entropy_with_logits' unstead of 'sparse_softmax_cross_entropy_with_logits'. \n"
      ],
      "metadata": {
        "id": "bMuUhKqJpMby"
      },
      "execution_count": 17,
      "outputs": []
    },
    {
      "cell_type": "code",
      "source": [
        "def train_step(x_batch, y_batch, loss, acc, model, optimizer):\n",
        "  # Update the model state given a batch of data\n",
        "  with tf.GradientTape() as tape:\n",
        "    y_pred = model(x_batch)\n",
        "    batch_loss = loss(y_pred, y_batch)\n",
        "  batch_acc = acc(y_pred, y_batch)\n",
        "  grads = tape.gradient(batch_loss, model.variables)\n",
        "  optimizer.apply_gradients(grads, model.variables)\n",
        "  return batch_loss, batch_acc\n",
        "\n",
        "def val_step(x_batch, y_batch, loss, acc, model):\n",
        "  # Evaluate the model on given a batch of validation data\n",
        "  y_pred = model(x_batch)\n",
        "  batch_loss = loss(y_pred, y_batch)\n",
        "  batch_acc = acc(y_pred, y_batch)\n",
        "  return batch_loss, batch_acc\n",
        "  \n",
        "def train_model(mlp, train_data, val_data, loss, acc, optimizer, epochs):\n",
        "  # Initialize data structures\n",
        "  train_losses, train_accs = [], []\n",
        "  val_losses, val_accs = [], []\n",
        "\n",
        "  # Format training loop and begin training\n",
        "  for epoch in range(epochs):\n",
        "    batch_losses_train, batch_accs_train = [], []\n",
        "    batch_losses_val, batch_accs_val = [], []\n",
        "\n",
        "    # Iterate over the training data\n",
        "    for x_batch, y_batch in train_data:\n",
        "      # Compute gradients and update the model's parameters\n",
        "      batch_loss, batch_acc = train_step(x_batch, y_batch, loss, acc, mlp, optimizer)\n",
        "      # Keep track of batch-level training performance\n",
        "      batch_losses_train.append(batch_loss)\n",
        "      batch_accs_train.append(batch_acc)\n",
        "\n",
        "    # Iterate over the validation data\n",
        "    for x_batch, y_batch in val_data:\n",
        "      batch_loss, batch_acc = val_step(x_batch, y_batch, loss, acc, mlp)\n",
        "      batch_losses_val.append(batch_loss)\n",
        "      batch_accs_val.append(batch_acc)\n",
        "\n",
        "    # Keep track of epoch-level model performance\n",
        "    train_loss, train_acc = tf.reduce_mean(batch_losses_train), tf.reduce_mean(batch_accs_train)\n",
        "    val_loss, val_acc = tf.reduce_mean(batch_losses_val), tf.reduce_mean(batch_accs_val)\n",
        "    train_losses.append(train_loss)\n",
        "    train_accs.append(train_acc)\n",
        "    val_losses.append(val_loss)\n",
        "    val_accs.append(val_acc)\n",
        "    print(f\"Epoch: {epoch}\")\n",
        "    print(f\"Training loss: {train_loss:.3f}, Training accuracy: {train_acc:.3f}\")\n",
        "    print(f\"Validation loss: {val_loss:.3f}, Validation accuracy: {val_acc:.3f}\")\n",
        "  return train_losses, train_accs, val_losses, val_accs"
      ],
      "metadata": {
        "id": "1RodMenkSdxC"
      },
      "execution_count": 18,
      "outputs": []
    },
    {
      "cell_type": "code",
      "source": [
        "class Adam:\n",
        "\n",
        "  def __init__(self, learning_rate=1e-3, beta_1=0.9, beta_2=0.999, ep=1e-7):\n",
        "      # Initialize optimizer parameters and variable slots\n",
        "      self.beta_1 = beta_1\n",
        "      self.beta_2 = beta_2\n",
        "      self.learning_rate = learning_rate\n",
        "      self.ep = ep\n",
        "      self.t = 1.\n",
        "      self.v_dvar, self.s_dvar = [], []\n",
        "      self.built = False\n",
        " \n",
        "  def apply_gradients(self, grads, vars):\n",
        "      # Initialize variables on the first call\n",
        "      if not self.built:\n",
        "        for var in vars:\n",
        "          v = tf.Variable(tf.zeros(shape=var.shape))\n",
        "          s = tf.Variable(tf.zeros(shape=var.shape))\n",
        "          self.v_dvar.append(v)\n",
        "          self.s_dvar.append(s)\n",
        "        self.built = True\n",
        "      # Update the model variables given their gradients\n",
        "      for i, (d_var, var) in enumerate(zip(grads, vars)):\n",
        "        self.v_dvar[i].assign(self.beta_1*self.v_dvar[i] + (1-self.beta_1)*d_var)\n",
        "        self.s_dvar[i].assign(self.beta_2*self.s_dvar[i] + (1-self.beta_2)*tf.square(d_var))\n",
        "        v_dvar_bc = self.v_dvar[i]/(1-(self.beta_1**self.t))\n",
        "        s_dvar_bc = self.s_dvar[i]/(1-(self.beta_2**self.t))\n",
        "        var.assign_sub(self.learning_rate*(v_dvar_bc/(tf.sqrt(s_dvar_bc) + self.ep)))\n",
        "      self.t += 1.\n",
        "      return "
      ],
      "metadata": {
        "id": "c7JjPTwwWLFS"
      },
      "execution_count": 19,
      "outputs": []
    },
    {
      "cell_type": "code",
      "source": [
        "class SGD:\n",
        "    def __init__(self, learning_rate=0.01, momentum=0.0):\n",
        "        self.learning_rate = learning_rate\n",
        "        self.momentum = momentum\n",
        "        self.velocities = []\n",
        "        self.built = False\n",
        "\n",
        "    def apply_gradients(self, grads, vars):\n",
        "        if not self.built:\n",
        "            for var in vars:\n",
        "                self.velocities.append(tf.zeros_like(var))\n",
        "            self.built = True\n",
        "        for i, (grad, var) in enumerate(zip(grads, vars)):\n",
        "            self.velocities[i] = self.momentum * self.velocities[i] - self.learning_rate * grad\n",
        "            var.assign_add(self.velocities[i])\n"
      ],
      "metadata": {
        "id": "uohljRl3SFJE"
      },
      "execution_count": 20,
      "outputs": []
    },
    {
      "cell_type": "code",
      "source": [
        "class RMSprop:\n",
        "    def __init__(self, learning_rate=0.001, decay_rate=0.9, epsilon=1e-7):\n",
        "        self.learning_rate = learning_rate\n",
        "        self.decay_rate = decay_rate\n",
        "        self.epsilon = epsilon\n",
        "        self.mean_squares = []\n",
        "        self.built = False\n",
        "\n",
        "    def apply_gradients(self, grads, vars):\n",
        "        if not self.built:\n",
        "            for var in vars:\n",
        "                self.mean_squares.append(tf.zeros_like(var))\n",
        "            self.built = True\n",
        "        for i, (grad, var) in enumerate(zip(grads, vars)):\n",
        "            self.mean_squares[i] = self.decay_rate * self.mean_squares[i] + (1 - self.decay_rate) * tf.square(grad)\n",
        "            var.assign_sub(self.learning_rate * grad / (tf.sqrt(self.mean_squares[i]) + self.epsilon))\n"
      ],
      "metadata": {
        "id": "XutjqmyTSHly"
      },
      "execution_count": 21,
      "outputs": []
    },
    {
      "cell_type": "code",
      "source": [
        "class Adagrad:\n",
        "    def __init__(self, learning_rate=0.01, epsilon=1e-7):\n",
        "        self.learning_rate = learning_rate\n",
        "        self.epsilon = epsilon\n",
        "        self.sum_squares = []\n",
        "        self.built = False\n",
        "\n",
        "    def apply_gradients(self, grads, vars):\n",
        "        if not self.built:\n",
        "            for var in vars:\n",
        "                self.sum_squares.append(tf.zeros_like(var))\n",
        "            self.built = True\n",
        "        for i, (grad, var) in enumerate(zip(grads, vars)):\n",
        "            self.sum_squares[i] += tf.square(grad)\n",
        "            var.assign_sub(self.learning_rate * grad / (tf.sqrt(self.sum_squares[i]) + self.epsilon))\n"
      ],
      "metadata": {
        "id": "m604UexCSJjj"
      },
      "execution_count": 22,
      "outputs": []
    },
    {
      "cell_type": "code",
      "source": [
        "def relu(x):\n",
        "    return tf.nn.relu(x)\n",
        "def sigmoid(x):\n",
        "    return tf.math.sigmoid(x)\n",
        "def tanh(x):\n",
        "    return tf.math.tanh(x)\n",
        "def leaky_relu(x, alpha=0.2):\n",
        "    return tf.maximum(x, alpha*x)\n",
        "def swish(x, beta=1.0):\n",
        "    return x * tf.math.sigmoid(beta * x)\n",
        "def softmax(x):\n",
        "    return tf.nn.softmax(x)\n",
        "\n"
      ],
      "metadata": {
        "id": "A9OxEpzkUNtl"
      },
      "execution_count": 23,
      "outputs": []
    },
    {
      "cell_type": "code",
      "source": [
        "#Defining each layer of our MLP model : \n",
        "#Two hidden layers , the first of size 700 , the second of size 500\n",
        "hidden_layer_1_size = 700\n",
        "hidden_layer_2_size = 500\n",
        "#Defining the output layer of size 10\n",
        "output_size = 10\n",
        "\n",
        "mlp_model = MLP([\n",
        "    DenseLayer(out_dim=hidden_layer_1_size, activation=tf.nn.relu),\n",
        "    DenseLayer(out_dim=hidden_layer_2_size, activation=tf.nn.relu),\n",
        "    DenseLayer(out_dim=output_size,activation=tf.nn.softmax)])"
      ],
      "metadata": {
        "id": "EN1ZqaMETjLJ"
      },
      "execution_count": 24,
      "outputs": []
    },
    {
      "cell_type": "code",
      "source": [
        "optimizers=[swish,leaky_relu,relu,tanh,sigmoid,softmax]\n",
        "\n",
        "output=[]\n",
        "for i in optimizers:\n",
        "  for j in [100,200,300,400,500,600,700]:\n",
        "    for k in [100,200,300,400,500,600,700]:\n",
        "      hidden_layer_1_size = j\n",
        "      hidden_layer_2_size = k\n",
        "      mlp_model = MLP([\n",
        "      DenseLayer(out_dim=hidden_layer_1_size, activation=tf.nn.relu),\n",
        "      DenseLayer(out_dim=hidden_layer_2_size, activation=tf.nn.relu),\n",
        "      DenseLayer(out_dim=output_size,activation=i)])\n",
        "      train_losses, train_accs, val_losses, val_accs = train_model(mlp_model, train_data, val_data, \n",
        "                                                             loss=cross_entropy_loss, acc=accuracy,\n",
        "                                                             optimizer=Adam(), epochs=5)\n",
        "      output.append({\"train_losses\":train_losses,\"train_accs\":train_accs,\"val_losses\":val_losses,\"val_accs\":val_accs,\n",
        "                     \"hidden_layer_1_size\":hidden_layer_1_size,\"hidden_layer_2_size\":hidden_layer_2_size,\"optimizer\":i\n",
        "\n",
        "          }\n",
        "      )\n",
        "      \n",
        "\n"
      ],
      "metadata": {
        "id": "95Eea9XaVPyt"
      },
      "execution_count": null,
      "outputs": []
    },
    {
      "cell_type": "code",
      "source": [
        "# sort the list of models based on the val_accs in descending order\n",
        "sorted_models = sorted(output, key=lambda x: x[\"val_accs\"], reverse=True)\n",
        "\n",
        "# print the sorted models\n",
        "for model in sorted_models:\n",
        "    print(f\"Hyperparameters for Model with Validation Accuracy of {model['val_accs']}:\")\n",
        "    print(f\"Hidden Layer 1 Size: {model['hidden_layer_1_size']}\")\n",
        "    print(f\"Hidden Layer 2 Size: {model['hidden_layer_2_size']}\")\n",
        "    print(f\"Optimizer: {model['optimizer']}\")\n",
        "    print(\"\\n\")"
      ],
      "metadata": {
        "colab": {
          "base_uri": "https://localhost:8080/"
        },
        "id": "nARht6EXVk5c",
        "outputId": "c3119ab0-5695-4900-eff7-523b7e0154f3"
      },
      "execution_count": 26,
      "outputs": [
        {
          "output_type": "stream",
          "name": "stdout",
          "text": [
            "Hyperparameters for Model with Validation Accuracy of [<tf.Tensor: shape=(), dtype=float32, numpy=0.9647943>, <tf.Tensor: shape=(), dtype=float32, numpy=0.9725079>, <tf.Tensor: shape=(), dtype=float32, numpy=0.9752769>, <tf.Tensor: shape=(), dtype=float32, numpy=0.97448575>, <tf.Tensor: shape=(), dtype=float32, numpy=0.9739913>]:\n",
            "Hidden Layer 1 Size: 500\n",
            "Hidden Layer 2 Size: 600\n",
            "Optimizer: <function swish at 0x7f27e0435700>\n",
            "\n",
            "\n",
            "Hyperparameters for Model with Validation Accuracy of [<tf.Tensor: shape=(), dtype=float32, numpy=0.964102>, <tf.Tensor: shape=(), dtype=float32, numpy=0.9712223>, <tf.Tensor: shape=(), dtype=float32, numpy=0.9769581>, <tf.Tensor: shape=(), dtype=float32, numpy=0.9743869>, <tf.Tensor: shape=(), dtype=float32, numpy=0.97547466>]:\n",
            "Hidden Layer 1 Size: 700\n",
            "Hidden Layer 2 Size: 600\n",
            "Optimizer: <function swish at 0x7f27e0435700>\n",
            "\n",
            "\n",
            "Hyperparameters for Model with Validation Accuracy of [<tf.Tensor: shape=(), dtype=float32, numpy=0.96390426>, <tf.Tensor: shape=(), dtype=float32, numpy=0.9705301>, <tf.Tensor: shape=(), dtype=float32, numpy=0.97735363>, <tf.Tensor: shape=(), dtype=float32, numpy=0.97596914>, <tf.Tensor: shape=(), dtype=float32, numpy=0.97596914>]:\n",
            "Hidden Layer 1 Size: 500\n",
            "Hidden Layer 2 Size: 700\n",
            "Optimizer: <function swish at 0x7f27e0435700>\n",
            "\n",
            "\n",
            "Hyperparameters for Model with Validation Accuracy of [<tf.Tensor: shape=(), dtype=float32, numpy=0.9634098>, <tf.Tensor: shape=(), dtype=float32, numpy=0.97320014>, <tf.Tensor: shape=(), dtype=float32, numpy=0.9736946>, <tf.Tensor: shape=(), dtype=float32, numpy=0.9777492>, <tf.Tensor: shape=(), dtype=float32, numpy=0.97448575>]:\n",
            "Hidden Layer 1 Size: 400\n",
            "Hidden Layer 2 Size: 500\n",
            "Optimizer: <function swish at 0x7f27e0435700>\n",
            "\n",
            "\n",
            "Hyperparameters for Model with Validation Accuracy of [<tf.Tensor: shape=(), dtype=float32, numpy=0.9634098>, <tf.Tensor: shape=(), dtype=float32, numpy=0.96983784>, <tf.Tensor: shape=(), dtype=float32, numpy=0.9765625>, <tf.Tensor: shape=(), dtype=float32, numpy=0.96875>, <tf.Tensor: shape=(), dtype=float32, numpy=0.976068>]:\n",
            "Hidden Layer 1 Size: 700\n",
            "Hidden Layer 2 Size: 500\n",
            "Optimizer: <function swish at 0x7f27e0435700>\n",
            "\n",
            "\n",
            "Hyperparameters for Model with Validation Accuracy of [<tf.Tensor: shape=(), dtype=float32, numpy=0.96301425>, <tf.Tensor: shape=(), dtype=float32, numpy=0.9741891>, <tf.Tensor: shape=(), dtype=float32, numpy=0.97587025>, <tf.Tensor: shape=(), dtype=float32, numpy=0.9736946>, <tf.Tensor: shape=(), dtype=float32, numpy=0.97171676>]:\n",
            "Hidden Layer 1 Size: 700\n",
            "Hidden Layer 2 Size: 300\n",
            "Optimizer: <function swish at 0x7f27e0435700>\n",
            "\n",
            "\n",
            "Hyperparameters for Model with Validation Accuracy of [<tf.Tensor: shape=(), dtype=float32, numpy=0.9627176>, <tf.Tensor: shape=(), dtype=float32, numpy=0.9725079>, <tf.Tensor: shape=(), dtype=float32, numpy=0.9755736>, <tf.Tensor: shape=(), dtype=float32, numpy=0.9739913>, <tf.Tensor: shape=(), dtype=float32, numpy=0.97359574>]:\n",
            "Hidden Layer 1 Size: 700\n",
            "Hidden Layer 2 Size: 400\n",
            "Optimizer: <function swish at 0x7f27e0435700>\n",
            "\n",
            "\n",
            "Hyperparameters for Model with Validation Accuracy of [<tf.Tensor: shape=(), dtype=float32, numpy=0.96261865>, <tf.Tensor: shape=(), dtype=float32, numpy=0.971519>, <tf.Tensor: shape=(), dtype=float32, numpy=0.97448575>, <tf.Tensor: shape=(), dtype=float32, numpy=0.9787381>, <tf.Tensor: shape=(), dtype=float32, numpy=0.9743869>]:\n",
            "Hidden Layer 1 Size: 600\n",
            "Hidden Layer 2 Size: 600\n",
            "Optimizer: <function swish at 0x7f27e0435700>\n",
            "\n",
            "\n",
            "Hyperparameters for Model with Validation Accuracy of [<tf.Tensor: shape=(), dtype=float32, numpy=0.96261865>, <tf.Tensor: shape=(), dtype=float32, numpy=0.9711234>, <tf.Tensor: shape=(), dtype=float32, numpy=0.976068>, <tf.Tensor: shape=(), dtype=float32, numpy=0.9741891>, <tf.Tensor: shape=(), dtype=float32, numpy=0.9714201>]:\n",
            "Hidden Layer 1 Size: 700\n",
            "Hidden Layer 2 Size: 700\n",
            "Optimizer: <function swish at 0x7f27e0435700>\n",
            "\n",
            "\n",
            "Hyperparameters for Model with Validation Accuracy of [<tf.Tensor: shape=(), dtype=float32, numpy=0.9624209>, <tf.Tensor: shape=(), dtype=float32, numpy=0.9730024>, <tf.Tensor: shape=(), dtype=float32, numpy=0.9777492>, <tf.Tensor: shape=(), dtype=float32, numpy=0.9739913>, <tf.Tensor: shape=(), dtype=float32, numpy=0.9683544>]:\n",
            "Hidden Layer 1 Size: 600\n",
            "Hidden Layer 2 Size: 300\n",
            "Optimizer: <function swish at 0x7f27e0435700>\n",
            "\n",
            "\n",
            "Hyperparameters for Model with Validation Accuracy of [<tf.Tensor: shape=(), dtype=float32, numpy=0.9624209>, <tf.Tensor: shape=(), dtype=float32, numpy=0.9709256>, <tf.Tensor: shape=(), dtype=float32, numpy=0.9761669>, <tf.Tensor: shape=(), dtype=float32, numpy=0.977947>, <tf.Tensor: shape=(), dtype=float32, numpy=0.975178>]:\n",
            "Hidden Layer 1 Size: 600\n",
            "Hidden Layer 2 Size: 400\n",
            "Optimizer: <function swish at 0x7f27e0435700>\n",
            "\n",
            "\n",
            "Hyperparameters for Model with Validation Accuracy of [<tf.Tensor: shape=(), dtype=float32, numpy=0.9622231>, <tf.Tensor: shape=(), dtype=float32, numpy=0.9719145>, <tf.Tensor: shape=(), dtype=float32, numpy=0.9746835>, <tf.Tensor: shape=(), dtype=float32, numpy=0.9673655>, <tf.Tensor: shape=(), dtype=float32, numpy=0.97498024>]:\n",
            "Hidden Layer 1 Size: 600\n",
            "Hidden Layer 2 Size: 500\n",
            "Optimizer: <function swish at 0x7f27e0435700>\n",
            "\n",
            "\n",
            "Hyperparameters for Model with Validation Accuracy of [<tf.Tensor: shape=(), dtype=float32, numpy=0.9618275>, <tf.Tensor: shape=(), dtype=float32, numpy=0.973299>, <tf.Tensor: shape=(), dtype=float32, numpy=0.97577137>, <tf.Tensor: shape=(), dtype=float32, numpy=0.97765034>, <tf.Tensor: shape=(), dtype=float32, numpy=0.9729035>]:\n",
            "Hidden Layer 1 Size: 600\n",
            "Hidden Layer 2 Size: 700\n",
            "Optimizer: <function swish at 0x7f27e0435700>\n",
            "\n",
            "\n",
            "Hyperparameters for Model with Validation Accuracy of [<tf.Tensor: shape=(), dtype=float32, numpy=0.9618275>, <tf.Tensor: shape=(), dtype=float32, numpy=0.96983784>, <tf.Tensor: shape=(), dtype=float32, numpy=0.97636473>, <tf.Tensor: shape=(), dtype=float32, numpy=0.9662777>, <tf.Tensor: shape=(), dtype=float32, numpy=0.9746835>]:\n",
            "Hidden Layer 1 Size: 400\n",
            "Hidden Layer 2 Size: 700\n",
            "Optimizer: <function swish at 0x7f27e0435700>\n",
            "\n",
            "\n",
            "Hyperparameters for Model with Validation Accuracy of [<tf.Tensor: shape=(), dtype=float32, numpy=0.96113527>, <tf.Tensor: shape=(), dtype=float32, numpy=0.9710245>, <tf.Tensor: shape=(), dtype=float32, numpy=0.97636473>, <tf.Tensor: shape=(), dtype=float32, numpy=0.976068>, <tf.Tensor: shape=(), dtype=float32, numpy=0.9673655>]:\n",
            "Hidden Layer 1 Size: 400\n",
            "Hidden Layer 2 Size: 600\n",
            "Optimizer: <function swish at 0x7f27e0435700>\n",
            "\n",
            "\n",
            "Hyperparameters for Model with Validation Accuracy of [<tf.Tensor: shape=(), dtype=float32, numpy=0.96064085>, <tf.Tensor: shape=(), dtype=float32, numpy=0.970629>, <tf.Tensor: shape=(), dtype=float32, numpy=0.9756725>, <tf.Tensor: shape=(), dtype=float32, numpy=0.97359574>, <tf.Tensor: shape=(), dtype=float32, numpy=0.9727057>]:\n",
            "Hidden Layer 1 Size: 700\n",
            "Hidden Layer 2 Size: 100\n",
            "Optimizer: <function swish at 0x7f27e0435700>\n",
            "\n",
            "\n",
            "Hyperparameters for Model with Validation Accuracy of [<tf.Tensor: shape=(), dtype=float32, numpy=0.960443>, <tf.Tensor: shape=(), dtype=float32, numpy=0.972409>, <tf.Tensor: shape=(), dtype=float32, numpy=0.97577137>, <tf.Tensor: shape=(), dtype=float32, numpy=0.9752769>, <tf.Tensor: shape=(), dtype=float32, numpy=0.97685915>]:\n",
            "Hidden Layer 1 Size: 600\n",
            "Hidden Layer 2 Size: 100\n",
            "Optimizer: <function swish at 0x7f27e0435700>\n",
            "\n",
            "\n",
            "Hyperparameters for Model with Validation Accuracy of [<tf.Tensor: shape=(), dtype=float32, numpy=0.96034414>, <tf.Tensor: shape=(), dtype=float32, numpy=0.97082675>, <tf.Tensor: shape=(), dtype=float32, numpy=0.9756725>, <tf.Tensor: shape=(), dtype=float32, numpy=0.9764636>, <tf.Tensor: shape=(), dtype=float32, numpy=0.9774525>]:\n",
            "Hidden Layer 1 Size: 400\n",
            "Hidden Layer 2 Size: 300\n",
            "Optimizer: <function swish at 0x7f27e0435700>\n",
            "\n",
            "\n",
            "Hyperparameters for Model with Validation Accuracy of [<tf.Tensor: shape=(), dtype=float32, numpy=0.96034414>, <tf.Tensor: shape=(), dtype=float32, numpy=0.970629>, <tf.Tensor: shape=(), dtype=float32, numpy=0.975178>, <tf.Tensor: shape=(), dtype=float32, numpy=0.9723101>, <tf.Tensor: shape=(), dtype=float32, numpy=0.97685915>]:\n",
            "Hidden Layer 1 Size: 400\n",
            "Hidden Layer 2 Size: 400\n",
            "Optimizer: <function swish at 0x7f27e0435700>\n",
            "\n",
            "\n",
            "Hyperparameters for Model with Validation Accuracy of [<tf.Tensor: shape=(), dtype=float32, numpy=0.96024525>, <tf.Tensor: shape=(), dtype=float32, numpy=0.97181565>, <tf.Tensor: shape=(), dtype=float32, numpy=0.97458464>, <tf.Tensor: shape=(), dtype=float32, numpy=0.97587025>, <tf.Tensor: shape=(), dtype=float32, numpy=0.97320014>]:\n",
            "Hidden Layer 1 Size: 500\n",
            "Hidden Layer 2 Size: 300\n",
            "Optimizer: <function swish at 0x7f27e0435700>\n",
            "\n",
            "\n",
            "Hyperparameters for Model with Validation Accuracy of [<tf.Tensor: shape=(), dtype=float32, numpy=0.96014637>, <tf.Tensor: shape=(), dtype=float32, numpy=0.9723101>, <tf.Tensor: shape=(), dtype=float32, numpy=0.9741891>, <tf.Tensor: shape=(), dtype=float32, numpy=0.9737935>, <tf.Tensor: shape=(), dtype=float32, numpy=0.9726068>]:\n",
            "Hidden Layer 1 Size: 300\n",
            "Hidden Layer 2 Size: 500\n",
            "Optimizer: <function swish at 0x7f27e0435700>\n",
            "\n",
            "\n",
            "Hyperparameters for Model with Validation Accuracy of [<tf.Tensor: shape=(), dtype=float32, numpy=0.95984966>, <tf.Tensor: shape=(), dtype=float32, numpy=0.9709256>, <tf.Tensor: shape=(), dtype=float32, numpy=0.9737935>, <tf.Tensor: shape=(), dtype=float32, numpy=0.97488135>, <tf.Tensor: shape=(), dtype=float32, numpy=0.9739913>]:\n",
            "Hidden Layer 1 Size: 500\n",
            "Hidden Layer 2 Size: 400\n",
            "Optimizer: <function swish at 0x7f27e0435700>\n",
            "\n",
            "\n",
            "Hyperparameters for Model with Validation Accuracy of [<tf.Tensor: shape=(), dtype=float32, numpy=0.9597508>, <tf.Tensor: shape=(), dtype=float32, numpy=0.9691456>, <tf.Tensor: shape=(), dtype=float32, numpy=0.97488135>, <tf.Tensor: shape=(), dtype=float32, numpy=0.9741891>, <tf.Tensor: shape=(), dtype=float32, numpy=0.97498024>]:\n",
            "Hidden Layer 1 Size: 500\n",
            "Hidden Layer 2 Size: 100\n",
            "Optimizer: <function swish at 0x7f27e0435700>\n",
            "\n",
            "\n",
            "Hyperparameters for Model with Validation Accuracy of [<tf.Tensor: shape=(), dtype=float32, numpy=0.95935524>, <tf.Tensor: shape=(), dtype=float32, numpy=0.9692445>, <tf.Tensor: shape=(), dtype=float32, numpy=0.97359574>, <tf.Tensor: shape=(), dtype=float32, numpy=0.9737935>, <tf.Tensor: shape=(), dtype=float32, numpy=0.9746835>]:\n",
            "Hidden Layer 1 Size: 500\n",
            "Hidden Layer 2 Size: 200\n",
            "Optimizer: <function swish at 0x7f27e0435700>\n",
            "\n",
            "\n",
            "Hyperparameters for Model with Validation Accuracy of [<tf.Tensor: shape=(), dtype=float32, numpy=0.95895964>, <tf.Tensor: shape=(), dtype=float32, numpy=0.9699367>, <tf.Tensor: shape=(), dtype=float32, numpy=0.9766614>, <tf.Tensor: shape=(), dtype=float32, numpy=0.97359574>, <tf.Tensor: shape=(), dtype=float32, numpy=0.97488135>]:\n",
            "Hidden Layer 1 Size: 500\n",
            "Hidden Layer 2 Size: 500\n",
            "Optimizer: <function swish at 0x7f27e0435700>\n",
            "\n",
            "\n",
            "Hyperparameters for Model with Validation Accuracy of [<tf.Tensor: shape=(), dtype=float32, numpy=0.9585641>, <tf.Tensor: shape=(), dtype=float32, numpy=0.96904665>, <tf.Tensor: shape=(), dtype=float32, numpy=0.9727057>, <tf.Tensor: shape=(), dtype=float32, numpy=0.9723101>, <tf.Tensor: shape=(), dtype=float32, numpy=0.97320014>]:\n",
            "Hidden Layer 1 Size: 400\n",
            "Hidden Layer 2 Size: 200\n",
            "Optimizer: <function swish at 0x7f27e0435700>\n",
            "\n",
            "\n",
            "Hyperparameters for Model with Validation Accuracy of [<tf.Tensor: shape=(), dtype=float32, numpy=0.9584652>, <tf.Tensor: shape=(), dtype=float32, numpy=0.97181565>, <tf.Tensor: shape=(), dtype=float32, numpy=0.97498024>, <tf.Tensor: shape=(), dtype=float32, numpy=0.97359574>, <tf.Tensor: shape=(), dtype=float32, numpy=0.9702334>]:\n",
            "Hidden Layer 1 Size: 700\n",
            "Hidden Layer 2 Size: 200\n",
            "Optimizer: <function swish at 0x7f27e0435700>\n",
            "\n",
            "\n",
            "Hyperparameters for Model with Validation Accuracy of [<tf.Tensor: shape=(), dtype=float32, numpy=0.9583663>, <tf.Tensor: shape=(), dtype=float32, numpy=0.9673655>, <tf.Tensor: shape=(), dtype=float32, numpy=0.9727057>, <tf.Tensor: shape=(), dtype=float32, numpy=0.9728046>, <tf.Tensor: shape=(), dtype=float32, numpy=0.9740902>]:\n",
            "Hidden Layer 1 Size: 200\n",
            "Hidden Layer 2 Size: 700\n",
            "Optimizer: <function swish at 0x7f27e0435700>\n",
            "\n",
            "\n",
            "Hyperparameters for Model with Validation Accuracy of [<tf.Tensor: shape=(), dtype=float32, numpy=0.95787185>, <tf.Tensor: shape=(), dtype=float32, numpy=0.9700356>, <tf.Tensor: shape=(), dtype=float32, numpy=0.9725079>, <tf.Tensor: shape=(), dtype=float32, numpy=0.97320014>, <tf.Tensor: shape=(), dtype=float32, numpy=0.97320014>]:\n",
            "Hidden Layer 1 Size: 300\n",
            "Hidden Layer 2 Size: 600\n",
            "Optimizer: <function swish at 0x7f27e0435700>\n",
            "\n",
            "\n",
            "Hyperparameters for Model with Validation Accuracy of [<tf.Tensor: shape=(), dtype=float32, numpy=0.9569818>, <tf.Tensor: shape=(), dtype=float32, numpy=0.96805775>, <tf.Tensor: shape=(), dtype=float32, numpy=0.97181565>, <tf.Tensor: shape=(), dtype=float32, numpy=0.9740902>, <tf.Tensor: shape=(), dtype=float32, numpy=0.9723101>]:\n",
            "Hidden Layer 1 Size: 300\n",
            "Hidden Layer 2 Size: 300\n",
            "Optimizer: <function swish at 0x7f27e0435700>\n",
            "\n",
            "\n",
            "Hyperparameters for Model with Validation Accuracy of [<tf.Tensor: shape=(), dtype=float32, numpy=0.9569818>, <tf.Tensor: shape=(), dtype=float32, numpy=0.9663766>, <tf.Tensor: shape=(), dtype=float32, numpy=0.9730024>, <tf.Tensor: shape=(), dtype=float32, numpy=0.9746835>, <tf.Tensor: shape=(), dtype=float32, numpy=0.97498024>]:\n",
            "Hidden Layer 1 Size: 400\n",
            "Hidden Layer 2 Size: 100\n",
            "Optimizer: <function swish at 0x7f27e0435700>\n",
            "\n",
            "\n",
            "Hyperparameters for Model with Validation Accuracy of [<tf.Tensor: shape=(), dtype=float32, numpy=0.9569818>, <tf.Tensor: shape=(), dtype=float32, numpy=0.96538764>, <tf.Tensor: shape=(), dtype=float32, numpy=0.97082675>, <tf.Tensor: shape=(), dtype=float32, numpy=0.97320014>, <tf.Tensor: shape=(), dtype=float32, numpy=0.9743869>]:\n",
            "Hidden Layer 1 Size: 200\n",
            "Hidden Layer 2 Size: 500\n",
            "Optimizer: <function leaky_relu at 0x7f27e04354c0>\n",
            "\n",
            "\n",
            "Hyperparameters for Model with Validation Accuracy of [<tf.Tensor: shape=(), dtype=float32, numpy=0.956784>, <tf.Tensor: shape=(), dtype=float32, numpy=0.9655855>, <tf.Tensor: shape=(), dtype=float32, numpy=0.9710245>, <tf.Tensor: shape=(), dtype=float32, numpy=0.97359574>, <tf.Tensor: shape=(), dtype=float32, numpy=0.9728046>]:\n",
            "Hidden Layer 1 Size: 300\n",
            "Hidden Layer 2 Size: 200\n",
            "Optimizer: <function swish at 0x7f27e0435700>\n",
            "\n",
            "\n",
            "Hyperparameters for Model with Validation Accuracy of [<tf.Tensor: shape=(), dtype=float32, numpy=0.9562895>, <tf.Tensor: shape=(), dtype=float32, numpy=0.9700356>, <tf.Tensor: shape=(), dtype=float32, numpy=0.9752769>, <tf.Tensor: shape=(), dtype=float32, numpy=0.97715586>, <tf.Tensor: shape=(), dtype=float32, numpy=0.97320014>]:\n",
            "Hidden Layer 1 Size: 300\n",
            "Hidden Layer 2 Size: 400\n",
            "Optimizer: <function swish at 0x7f27e0435700>\n",
            "\n",
            "\n",
            "Hyperparameters for Model with Validation Accuracy of [<tf.Tensor: shape=(), dtype=float32, numpy=0.9562895>, <tf.Tensor: shape=(), dtype=float32, numpy=0.9664755>, <tf.Tensor: shape=(), dtype=float32, numpy=0.9713212>, <tf.Tensor: shape=(), dtype=float32, numpy=0.9720135>, <tf.Tensor: shape=(), dtype=float32, numpy=0.96894777>]:\n",
            "Hidden Layer 1 Size: 200\n",
            "Hidden Layer 2 Size: 600\n",
            "Optimizer: <function swish at 0x7f27e0435700>\n",
            "\n",
            "\n",
            "Hyperparameters for Model with Validation Accuracy of [<tf.Tensor: shape=(), dtype=float32, numpy=0.95609176>, <tf.Tensor: shape=(), dtype=float32, numpy=0.9686511>, <tf.Tensor: shape=(), dtype=float32, numpy=0.97320014>, <tf.Tensor: shape=(), dtype=float32, numpy=0.97221124>, <tf.Tensor: shape=(), dtype=float32, numpy=0.97349685>]:\n",
            "Hidden Layer 1 Size: 200\n",
            "Hidden Layer 2 Size: 600\n",
            "Optimizer: <function leaky_relu at 0x7f27e04354c0>\n",
            "\n",
            "\n",
            "Hyperparameters for Model with Validation Accuracy of [<tf.Tensor: shape=(), dtype=float32, numpy=0.9557951>, <tf.Tensor: shape=(), dtype=float32, numpy=0.96795887>, <tf.Tensor: shape=(), dtype=float32, numpy=0.9719145>, <tf.Tensor: shape=(), dtype=float32, numpy=0.97211236>, <tf.Tensor: shape=(), dtype=float32, numpy=0.9740902>]:\n",
            "Hidden Layer 1 Size: 200\n",
            "Hidden Layer 2 Size: 500\n",
            "Optimizer: <function swish at 0x7f27e0435700>\n",
            "\n",
            "\n",
            "Hyperparameters for Model with Validation Accuracy of [<tf.Tensor: shape=(), dtype=float32, numpy=0.9555973>, <tf.Tensor: shape=(), dtype=float32, numpy=0.96786>, <tf.Tensor: shape=(), dtype=float32, numpy=0.970629>, <tf.Tensor: shape=(), dtype=float32, numpy=0.9716179>, <tf.Tensor: shape=(), dtype=float32, numpy=0.9729035>]:\n",
            "Hidden Layer 1 Size: 200\n",
            "Hidden Layer 2 Size: 200\n",
            "Optimizer: <function swish at 0x7f27e0435700>\n",
            "\n",
            "\n",
            "Hyperparameters for Model with Validation Accuracy of [<tf.Tensor: shape=(), dtype=float32, numpy=0.9553006>, <tf.Tensor: shape=(), dtype=float32, numpy=0.96944225>, <tf.Tensor: shape=(), dtype=float32, numpy=0.97320014>, <tf.Tensor: shape=(), dtype=float32, numpy=0.97211236>, <tf.Tensor: shape=(), dtype=float32, numpy=0.9736946>]:\n",
            "Hidden Layer 1 Size: 200\n",
            "Hidden Layer 2 Size: 700\n",
            "Optimizer: <function leaky_relu at 0x7f27e04354c0>\n",
            "\n",
            "\n",
            "Hyperparameters for Model with Validation Accuracy of [<tf.Tensor: shape=(), dtype=float32, numpy=0.9553006>, <tf.Tensor: shape=(), dtype=float32, numpy=0.9664755>, <tf.Tensor: shape=(), dtype=float32, numpy=0.9710245>, <tf.Tensor: shape=(), dtype=float32, numpy=0.97171676>, <tf.Tensor: shape=(), dtype=float32, numpy=0.9716179>]:\n",
            "Hidden Layer 1 Size: 200\n",
            "Hidden Layer 2 Size: 300\n",
            "Optimizer: <function swish at 0x7f27e0435700>\n",
            "\n",
            "\n",
            "Hyperparameters for Model with Validation Accuracy of [<tf.Tensor: shape=(), dtype=float32, numpy=0.955004>, <tf.Tensor: shape=(), dtype=float32, numpy=0.97082675>, <tf.Tensor: shape=(), dtype=float32, numpy=0.97577137>, <tf.Tensor: shape=(), dtype=float32, numpy=0.97458464>, <tf.Tensor: shape=(), dtype=float32, numpy=0.9683544>]:\n",
            "Hidden Layer 1 Size: 300\n",
            "Hidden Layer 2 Size: 700\n",
            "Optimizer: <function swish at 0x7f27e0435700>\n",
            "\n",
            "\n",
            "Hyperparameters for Model with Validation Accuracy of [<tf.Tensor: shape=(), dtype=float32, numpy=0.9546084>, <tf.Tensor: shape=(), dtype=float32, numpy=0.9664755>, <tf.Tensor: shape=(), dtype=float32, numpy=0.9736946>, <tf.Tensor: shape=(), dtype=float32, numpy=0.9747824>, <tf.Tensor: shape=(), dtype=float32, numpy=0.9755736>]:\n",
            "Hidden Layer 1 Size: 300\n",
            "Hidden Layer 2 Size: 100\n",
            "Optimizer: <function leaky_relu at 0x7f27e04354c0>\n",
            "\n",
            "\n",
            "Hyperparameters for Model with Validation Accuracy of [<tf.Tensor: shape=(), dtype=float32, numpy=0.9545095>, <tf.Tensor: shape=(), dtype=float32, numpy=0.9669699>, <tf.Tensor: shape=(), dtype=float32, numpy=0.9712223>, <tf.Tensor: shape=(), dtype=float32, numpy=0.972409>, <tf.Tensor: shape=(), dtype=float32, numpy=0.9761669>]:\n",
            "Hidden Layer 1 Size: 200\n",
            "Hidden Layer 2 Size: 300\n",
            "Optimizer: <function leaky_relu at 0x7f27e04354c0>\n",
            "\n",
            "\n",
            "Hyperparameters for Model with Validation Accuracy of [<tf.Tensor: shape=(), dtype=float32, numpy=0.9541139>, <tf.Tensor: shape=(), dtype=float32, numpy=0.96795887>, <tf.Tensor: shape=(), dtype=float32, numpy=0.973398>, <tf.Tensor: shape=(), dtype=float32, numpy=0.9743869>, <tf.Tensor: shape=(), dtype=float32, numpy=0.97596914>]:\n",
            "Hidden Layer 1 Size: 300\n",
            "Hidden Layer 2 Size: 100\n",
            "Optimizer: <function swish at 0x7f27e0435700>\n",
            "\n",
            "\n",
            "Hyperparameters for Model with Validation Accuracy of [<tf.Tensor: shape=(), dtype=float32, numpy=0.9541139>, <tf.Tensor: shape=(), dtype=float32, numpy=0.96578324>, <tf.Tensor: shape=(), dtype=float32, numpy=0.971519>, <tf.Tensor: shape=(), dtype=float32, numpy=0.9719145>, <tf.Tensor: shape=(), dtype=float32, numpy=0.9719145>]:\n",
            "Hidden Layer 1 Size: 200\n",
            "Hidden Layer 2 Size: 200\n",
            "Optimizer: <function leaky_relu at 0x7f27e04354c0>\n",
            "\n",
            "\n",
            "Hyperparameters for Model with Validation Accuracy of [<tf.Tensor: shape=(), dtype=float32, numpy=0.9535206>, <tf.Tensor: shape=(), dtype=float32, numpy=0.9654865>, <tf.Tensor: shape=(), dtype=float32, numpy=0.9702334>, <tf.Tensor: shape=(), dtype=float32, numpy=0.9729035>, <tf.Tensor: shape=(), dtype=float32, numpy=0.9728046>]:\n",
            "Hidden Layer 1 Size: 200\n",
            "Hidden Layer 2 Size: 100\n",
            "Optimizer: <function swish at 0x7f27e0435700>\n",
            "\n",
            "\n",
            "Hyperparameters for Model with Validation Accuracy of [<tf.Tensor: shape=(), dtype=float32, numpy=0.95342165>, <tf.Tensor: shape=(), dtype=float32, numpy=0.9651899>, <tf.Tensor: shape=(), dtype=float32, numpy=0.97320014>, <tf.Tensor: shape=(), dtype=float32, numpy=0.97498024>, <tf.Tensor: shape=(), dtype=float32, numpy=0.97547466>]:\n",
            "Hidden Layer 1 Size: 200\n",
            "Hidden Layer 2 Size: 400\n",
            "Optimizer: <function leaky_relu at 0x7f27e04354c0>\n",
            "\n",
            "\n",
            "Hyperparameters for Model with Validation Accuracy of [<tf.Tensor: shape=(), dtype=float32, numpy=0.95332277>, <tf.Tensor: shape=(), dtype=float32, numpy=0.96528876>, <tf.Tensor: shape=(), dtype=float32, numpy=0.97211236>, <tf.Tensor: shape=(), dtype=float32, numpy=0.9740902>, <tf.Tensor: shape=(), dtype=float32, numpy=0.9743869>]:\n",
            "Hidden Layer 1 Size: 200\n",
            "Hidden Layer 2 Size: 400\n",
            "Optimizer: <function swish at 0x7f27e0435700>\n",
            "\n",
            "\n",
            "Hyperparameters for Model with Validation Accuracy of [<tf.Tensor: shape=(), dtype=float32, numpy=0.95203716>, <tf.Tensor: shape=(), dtype=float32, numpy=0.96528876>, <tf.Tensor: shape=(), dtype=float32, numpy=0.9692445>, <tf.Tensor: shape=(), dtype=float32, numpy=0.9712223>, <tf.Tensor: shape=(), dtype=float32, numpy=0.97171676>]:\n",
            "Hidden Layer 1 Size: 200\n",
            "Hidden Layer 2 Size: 100\n",
            "Optimizer: <function leaky_relu at 0x7f27e04354c0>\n",
            "\n",
            "\n",
            "Hyperparameters for Model with Validation Accuracy of [<tf.Tensor: shape=(), dtype=float32, numpy=0.9513449>, <tf.Tensor: shape=(), dtype=float32, numpy=0.9645965>, <tf.Tensor: shape=(), dtype=float32, numpy=0.9691456>, <tf.Tensor: shape=(), dtype=float32, numpy=0.9709256>, <tf.Tensor: shape=(), dtype=float32, numpy=0.9709256>]:\n",
            "Hidden Layer 1 Size: 100\n",
            "Hidden Layer 2 Size: 600\n",
            "Optimizer: <function leaky_relu at 0x7f27e04354c0>\n",
            "\n",
            "\n",
            "Hyperparameters for Model with Validation Accuracy of [<tf.Tensor: shape=(), dtype=float32, numpy=0.9507516>, <tf.Tensor: shape=(), dtype=float32, numpy=0.96429986>, <tf.Tensor: shape=(), dtype=float32, numpy=0.96855223>, <tf.Tensor: shape=(), dtype=float32, numpy=0.9702334>, <tf.Tensor: shape=(), dtype=float32, numpy=0.97211236>]:\n",
            "Hidden Layer 1 Size: 100\n",
            "Hidden Layer 2 Size: 600\n",
            "Optimizer: <function swish at 0x7f27e0435700>\n",
            "\n",
            "\n",
            "Hyperparameters for Model with Validation Accuracy of [<tf.Tensor: shape=(), dtype=float32, numpy=0.9493671>, <tf.Tensor: shape=(), dtype=float32, numpy=0.96014637>, <tf.Tensor: shape=(), dtype=float32, numpy=0.96875>, <tf.Tensor: shape=(), dtype=float32, numpy=0.9710245>, <tf.Tensor: shape=(), dtype=float32, numpy=0.97211236>]:\n",
            "Hidden Layer 1 Size: 100\n",
            "Hidden Layer 2 Size: 400\n",
            "Optimizer: <function leaky_relu at 0x7f27e04354c0>\n",
            "\n",
            "\n",
            "Hyperparameters for Model with Validation Accuracy of [<tf.Tensor: shape=(), dtype=float32, numpy=0.9492682>, <tf.Tensor: shape=(), dtype=float32, numpy=0.9644976>, <tf.Tensor: shape=(), dtype=float32, numpy=0.96904665>, <tf.Tensor: shape=(), dtype=float32, numpy=0.9728046>, <tf.Tensor: shape=(), dtype=float32, numpy=0.973299>]:\n",
            "Hidden Layer 1 Size: 100\n",
            "Hidden Layer 2 Size: 700\n",
            "Optimizer: <function leaky_relu at 0x7f27e04354c0>\n",
            "\n",
            "\n",
            "Hyperparameters for Model with Validation Accuracy of [<tf.Tensor: shape=(), dtype=float32, numpy=0.9488726>, <tf.Tensor: shape=(), dtype=float32, numpy=0.96113527>, <tf.Tensor: shape=(), dtype=float32, numpy=0.9686511>, <tf.Tensor: shape=(), dtype=float32, numpy=0.97033226>, <tf.Tensor: shape=(), dtype=float32, numpy=0.9713212>]:\n",
            "Hidden Layer 1 Size: 100\n",
            "Hidden Layer 2 Size: 500\n",
            "Optimizer: <function leaky_relu at 0x7f27e04354c0>\n",
            "\n",
            "\n",
            "Hyperparameters for Model with Validation Accuracy of [<tf.Tensor: shape=(), dtype=float32, numpy=0.948576>, <tf.Tensor: shape=(), dtype=float32, numpy=0.961432>, <tf.Tensor: shape=(), dtype=float32, numpy=0.96805775>, <tf.Tensor: shape=(), dtype=float32, numpy=0.970629>, <tf.Tensor: shape=(), dtype=float32, numpy=0.97033226>]:\n",
            "Hidden Layer 1 Size: 100\n",
            "Hidden Layer 2 Size: 300\n",
            "Optimizer: <function swish at 0x7f27e0435700>\n",
            "\n",
            "\n",
            "Hyperparameters for Model with Validation Accuracy of [<tf.Tensor: shape=(), dtype=float32, numpy=0.948576>, <tf.Tensor: shape=(), dtype=float32, numpy=0.95984966>, <tf.Tensor: shape=(), dtype=float32, numpy=0.9688489>, <tf.Tensor: shape=(), dtype=float32, numpy=0.9723101>, <tf.Tensor: shape=(), dtype=float32, numpy=0.9725079>]:\n",
            "Hidden Layer 1 Size: 100\n",
            "Hidden Layer 2 Size: 400\n",
            "Optimizer: <function swish at 0x7f27e0435700>\n",
            "\n",
            "\n",
            "Hyperparameters for Model with Validation Accuracy of [<tf.Tensor: shape=(), dtype=float32, numpy=0.9479826>, <tf.Tensor: shape=(), dtype=float32, numpy=0.9628165>, <tf.Tensor: shape=(), dtype=float32, numpy=0.9663766>, <tf.Tensor: shape=(), dtype=float32, numpy=0.96964>, <tf.Tensor: shape=(), dtype=float32, numpy=0.97221124>]:\n",
            "Hidden Layer 1 Size: 100\n",
            "Hidden Layer 2 Size: 700\n",
            "Optimizer: <function swish at 0x7f27e0435700>\n",
            "\n",
            "\n",
            "Hyperparameters for Model with Validation Accuracy of [<tf.Tensor: shape=(), dtype=float32, numpy=0.9478837>, <tf.Tensor: shape=(), dtype=float32, numpy=0.96172863>, <tf.Tensor: shape=(), dtype=float32, numpy=0.9672666>, <tf.Tensor: shape=(), dtype=float32, numpy=0.9688489>, <tf.Tensor: shape=(), dtype=float32, numpy=0.9692445>]:\n",
            "Hidden Layer 1 Size: 100\n",
            "Hidden Layer 2 Size: 300\n",
            "Optimizer: <function leaky_relu at 0x7f27e04354c0>\n",
            "\n",
            "\n",
            "Hyperparameters for Model with Validation Accuracy of [<tf.Tensor: shape=(), dtype=float32, numpy=0.947587>, <tf.Tensor: shape=(), dtype=float32, numpy=0.95984966>, <tf.Tensor: shape=(), dtype=float32, numpy=0.9674644>, <tf.Tensor: shape=(), dtype=float32, numpy=0.96983784>, <tf.Tensor: shape=(), dtype=float32, numpy=0.96894777>]:\n",
            "Hidden Layer 1 Size: 100\n",
            "Hidden Layer 2 Size: 500\n",
            "Optimizer: <function swish at 0x7f27e0435700>\n",
            "\n",
            "\n",
            "Hyperparameters for Model with Validation Accuracy of [<tf.Tensor: shape=(), dtype=float32, numpy=0.9435324>, <tf.Tensor: shape=(), dtype=float32, numpy=0.95984966>, <tf.Tensor: shape=(), dtype=float32, numpy=0.9646954>, <tf.Tensor: shape=(), dtype=float32, numpy=0.9674644>, <tf.Tensor: shape=(), dtype=float32, numpy=0.9692445>]:\n",
            "Hidden Layer 1 Size: 100\n",
            "Hidden Layer 2 Size: 200\n",
            "Optimizer: <function leaky_relu at 0x7f27e04354c0>\n",
            "\n",
            "\n",
            "Hyperparameters for Model with Validation Accuracy of [<tf.Tensor: shape=(), dtype=float32, numpy=0.9435324>, <tf.Tensor: shape=(), dtype=float32, numpy=0.9587619>, <tf.Tensor: shape=(), dtype=float32, numpy=0.9672666>, <tf.Tensor: shape=(), dtype=float32, numpy=0.9697389>, <tf.Tensor: shape=(), dtype=float32, numpy=0.97082675>]:\n",
            "Hidden Layer 1 Size: 100\n",
            "Hidden Layer 2 Size: 200\n",
            "Optimizer: <function swish at 0x7f27e0435700>\n",
            "\n",
            "\n",
            "Hyperparameters for Model with Validation Accuracy of [<tf.Tensor: shape=(), dtype=float32, numpy=0.94333464>, <tf.Tensor: shape=(), dtype=float32, numpy=0.9563885>, <tf.Tensor: shape=(), dtype=float32, numpy=0.964201>, <tf.Tensor: shape=(), dtype=float32, numpy=0.96805775>, <tf.Tensor: shape=(), dtype=float32, numpy=0.96934336>]:\n",
            "Hidden Layer 1 Size: 100\n",
            "Hidden Layer 2 Size: 100\n",
            "Optimizer: <function swish at 0x7f27e0435700>\n",
            "\n",
            "\n",
            "Hyperparameters for Model with Validation Accuracy of [<tf.Tensor: shape=(), dtype=float32, numpy=0.9428402>, <tf.Tensor: shape=(), dtype=float32, numpy=0.9557951>, <tf.Tensor: shape=(), dtype=float32, numpy=0.965981>, <tf.Tensor: shape=(), dtype=float32, numpy=0.96855223>, <tf.Tensor: shape=(), dtype=float32, numpy=0.9712223>]:\n",
            "Hidden Layer 1 Size: 100\n",
            "Hidden Layer 2 Size: 100\n",
            "Optimizer: <function leaky_relu at 0x7f27e04354c0>\n",
            "\n",
            "\n",
            "Hyperparameters for Model with Validation Accuracy of [<tf.Tensor: shape=(), dtype=float32, numpy=0.9397745>, <tf.Tensor: shape=(), dtype=float32, numpy=0.9532239>, <tf.Tensor: shape=(), dtype=float32, numpy=0.9573774>, <tf.Tensor: shape=(), dtype=float32, numpy=0.9651899>, <tf.Tensor: shape=(), dtype=float32, numpy=0.965091>]:\n",
            "Hidden Layer 1 Size: 600\n",
            "Hidden Layer 2 Size: 200\n",
            "Optimizer: <function swish at 0x7f27e0435700>\n",
            "\n",
            "\n"
          ]
        }
      ]
    }
  ]
}